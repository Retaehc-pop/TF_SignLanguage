{
 "cells": [
  {
   "cell_type": "markdown",
   "metadata": {},
   "source": [
    "**Install and import dependency**"
   ]
  },
  {
   "cell_type": "code",
   "execution_count": null,
   "metadata": {},
   "outputs": [],
   "source": [
    "%pip install opencv-python mediapipe sklearn matplotlib"
   ]
  },
  {
   "cell_type": "code",
   "execution_count": null,
   "metadata": {},
   "outputs": [],
   "source": [
    "import cv2\n",
    "import numpy as np\n",
    "import os\n",
    "from matplotlib import pyplot as plt\n",
    "import time\n",
    "import mediapipe as mp"
   ]
  },
  {
   "cell_type": "markdown",
   "metadata": {},
   "source": [
    "**check webcam and keypoint of mediapipe holistic**"
   ]
  },
  {
   "cell_type": "code",
   "execution_count": null,
   "metadata": {},
   "outputs": [],
   "source": [
    "mp_holistic = mp.solutions.holistic # holistic module\n",
    "mp_drawing = mp.solutions.drawing_utils # drawing utilities"
   ]
  },
  {
   "cell_type": "code",
   "execution_count": null,
   "metadata": {},
   "outputs": [],
   "source": [
    "def mediapipe_detection(image,model):\n",
    "  image = cv2.cvtColor(image,cv2.COLOR_BGR2RGB) # color conversion\n",
    "  image.flags.writeable = False\n",
    "  results = model.process(image) # process image\n",
    "  image.flags.writeable = True\n",
    "  image = cv2.cvtColor(image,cv2.COLOR_RGB2BGR) # color conversion\n",
    "  return image,results"
   ]
  },
  {
   "cell_type": "code",
   "execution_count": null,
   "metadata": {},
   "outputs": [],
   "source": [
    "def draw_landmarks(image,result):\n",
    "  mp_drawing.draw_landmarks(image,result.face_landmarks,mp_holistic.FACEMESH_CONTOURS)\n",
    "  mp_drawing.draw_landmarks(image,result.pose_landmarks,mp_holistic.POSE_CONNECTIONS)\n",
    "  mp_drawing.draw_landmarks(image,result.left_hand_landmarks,mp_holistic.HAND_CONNECTIONS)\n",
    "  mp_drawing.draw_landmarks(image,result.right_hand_landmarks,mp_holistic.HAND_CONNECTIONS)\n"
   ]
  },
  {
   "cell_type": "code",
   "execution_count": null,
   "metadata": {},
   "outputs": [],
   "source": [
    "def draw_styles_landmarked(image,result):\n",
    "  mp_drawing.draw_landmarks(image,result.face_landmarks,mp_holistic.FACEMESH_CONTOURS,\n",
    "                            mp_drawing.DrawingSpec(color=(80,110,10),thickness=1,circle_radius=1),\n",
    "                            mp_drawing.DrawingSpec(color=(80,256,10),thickness=1,circle_radius=1))\n",
    "  mp_drawing.draw_landmarks(image,result.pose_landmarks,mp_holistic.POSE_CONNECTIONS)\n",
    "  mp_drawing.draw_landmarks(image,result.left_hand_landmarks,mp_holistic.HAND_CONNECTIONS)\n",
    "  mp_drawing.draw_landmarks(image,result.right_hand_landmarks,mp_holistic.HAND_CONNECTIONS)\n"
   ]
  },
  {
   "cell_type": "code",
   "execution_count": null,
   "metadata": {},
   "outputs": [],
   "source": [
    "cap = cv2.VideoCapture(0) #default camera\n",
    "with mp_holistic.Holistic(min_detection_confidence=0.5, min_tracking_confidence=0.5) as holitic:\n",
    "  while cap.isOpened():\n",
    "    ret,frame = cap.read() #read frame from webcam\n",
    "    \n",
    "    #make pipe detection\n",
    "    image,result = mediapipe_detection(frame, holitic)\n",
    "    draw_styles_landmarked(image,result)\n",
    "\n",
    "    cv2.imshow(\"Camera\",image) #show on screen\n",
    "    if cv2.waitKey(10) & 0xff == ord('q'): # if q or close is pressed break\n",
    "      break\n",
    "\n",
    "  cap.release()  # disconnect webcam\n",
    "  cv2.destroyAllWindows() #close window"
   ]
  },
  {
   "cell_type": "markdown",
   "metadata": {},
   "source": [
    "**Extract Value**"
   ]
  },
  {
   "cell_type": "code",
   "execution_count": null,
   "metadata": {},
   "outputs": [],
   "source": [
    "def extract_keypoint(result):\n",
    "  pose = np.array([[res.x,res.y,res.z,res.visibility] for res in result.pose_landmarks.landmark]).flatten() if result.pose_landmarks else np.zeros(33*4)\n",
    "  face = np.array([[res.x,res.y,res.z] for res in result.face_landmarks.landmark]).flatten() if result.face_landmarks else np.zeros(468*3)\n",
    "  left_hand = np.array([[res.x,res.y,res.z] for res in result.left_hand_landmarks.landmark]).flatten() if result.left_hand_landmarks else np.zeros(21*3)\n",
    "  right_hand = np.array([[res.x,res.y,res.z] for res in result.right_hand_landmarks.landmark]).flatten() if result.right_hand_landmarks else np.zeros(21*3)\n",
    "  return np.concatenate([pose,face,left_hand,right_hand])"
   ]
  },
  {
   "cell_type": "markdown",
   "metadata": {},
   "source": [
    "**Folder and default variable Setup**"
   ]
  },
  {
   "cell_type": "code",
   "execution_count": null,
   "metadata": {},
   "outputs": [],
   "source": [
    "DATA_PATH = os.path.join(\"MP_DATA\")\n",
    "with open(\"word_list.txt\") as file:\n",
    "  action = file.readlines()\n",
    "for i,word in enumerate(action):\n",
    "  action[i] = word.replace(\"\\n\",\"\")\n",
    "actions = np.array(action) # meaning of the pose\n",
    "no_sequences = 30 # take 30 video to collect data for each action\n",
    "sequence_length = 30 # 30 frames to detect what is going on"
   ]
  },
  {
   "cell_type": "code",
   "execution_count": null,
   "metadata": {},
   "outputs": [],
   "source": [
    "for action in actions:\n",
    "  for sequence in range(no_sequences):\n",
    "    try:\n",
    "      os.makedirs(os.path.join(DATA_PATH,action,str(sequence)))\n",
    "    except:\n",
    "      pass"
   ]
  },
  {
   "cell_type": "markdown",
   "metadata": {},
   "source": [
    "**Data Collection**"
   ]
  },
  {
   "cell_type": "code",
   "execution_count": null,
   "metadata": {},
   "outputs": [],
   "source": [
    "#video feed\n",
    "cap = cv2.VideoCapture(0) #default camera\n",
    "with mp_holistic.Holistic(min_detection_confidence=0.5, min_tracking_confidence=0.5) as holitic:\n",
    "  for action in actions:\n",
    "    for sequence in range(no_sequences):\n",
    "      for frame_num in range(sequence_length):\n",
    "        ret,frame = cap.read() #read frame from webcam\n",
    "        #make pipe detection\n",
    "        \n",
    "        image,result = mediapipe_detection(frame, holitic)\n",
    "        draw_landmarks(image,result)\n",
    "\n",
    "        #show which pic is being collected\n",
    "        if frame_num == 0:\n",
    "          cv2.putText(image,\"3\",(120,200),cv2.FONT_HERSHEY_SIMPLEX,0.5,(0,0,255),4,cv2.LINE_AA)\n",
    "          cv2.waitKey(1000)\n",
    "          cv2.putText(image,\"2\",(120,200),cv2.FONT_HERSHEY_SIMPLEX,0.5,(0,0,255),4,cv2.LINE_AA)\n",
    "          cv2.waitKey(1000)\n",
    "          cv2.putText(image,\"1\",(120,200),cv2.FONT_HERSHEY_SIMPLEX,0.5,(0,0,255),4,cv2.LINE_AA)\n",
    "          cv2.waitKey(1000)\n",
    "        cv2.putText(image,f\"{action} : {sequence}\",(15,12),cv2.FONT_HERSHEY_SIMPLEX,0.5,(0,0,255),1,cv2.LINE_4)\n",
    "\n",
    "        cv2.imshow(\"Camera\",image) #show on screen\n",
    "\n",
    "        # write data to path\n",
    "        keypoint = extract_keypoint(result)\n",
    "        npy_path = os.path.join(DATA_PATH,action,str(sequence),str(frame_num))\n",
    "        np.save(npy_path,keypoint)\n",
    "\n",
    "        if cv2.waitKey(10) & 0xff == ord('q'): # if q or close is pressed break\n",
    "          break\n",
    "\n",
    "  cap.release()  # disconnect webcam\n",
    "  cv2.destroyAllWindows() #close window"
   ]
  },
  {
   "cell_type": "code",
   "execution_count": null,
   "metadata": {},
   "outputs": [],
   "source": [
    "#in case the camera cant start\n",
    "cap.release()  # disconnect webcam\n",
    "cv2.destroyAllWindows() #close window"
   ]
  },
  {
   "cell_type": "markdown",
   "metadata": {},
   "source": [
    "**Data preprocessing, Create Label and Features**"
   ]
  },
  {
   "cell_type": "code",
   "execution_count": null,
   "metadata": {},
   "outputs": [],
   "source": [
    "#import dependencies\n",
    "from sklearn.model_selection import train_test_split\n",
    "from tensorflow.keras.utils import to_categorical"
   ]
  },
  {
   "cell_type": "code",
   "execution_count": null,
   "metadata": {},
   "outputs": [],
   "source": [
    "label_map = {lable:num for num,lable in enumerate(np.array(os.listdir(os.path.join(DATA_PATH))))}\n",
    "# label_map = {lable:num for num,lable in enumerate(np.array([\"about\",\"and\",\"but\"]))}"
   ]
  },
  {
   "cell_type": "code",
   "execution_count": null,
   "metadata": {},
   "outputs": [],
   "source": [
    "sequences,lables = [], []\n",
    "for action in os.listdir(os.path.join(DATA_PATH)):\n",
    "# for action in [\"about\",\"and\",\"but\"]:\n",
    "  action_file = os.listdir(os.path.join(DATA_PATH,action))\n",
    "  for sequence in range(len(action_file)): #should change to the number of file\n",
    "    window = []\n",
    "    for frame_num in range(sequence_length):\n",
    "      res = np.load(os.path.join(DATA_PATH,action,str(sequence),f\"{frame_num}.npy\"))\n",
    "      window.append(res)\n",
    "    sequences.append(window)\n",
    "    lables.append(label_map[action])\n",
    "    \n",
    "X = np.array(sequences)\n",
    "y = to_categorical(lables).astype(int)\n",
    "X_train,X_test,y_train,y_test = train_test_split(X,y,test_size=0.05)"
   ]
  },
  {
   "cell_type": "code",
   "execution_count": null,
   "metadata": {},
   "outputs": [],
   "source": [
    "np.array(sequences).shape"
   ]
  },
  {
   "cell_type": "code",
   "execution_count": null,
   "metadata": {},
   "outputs": [],
   "source": [
    "# X_train.shape\n",
    "y_train"
   ]
  },
  {
   "cell_type": "markdown",
   "metadata": {},
   "source": [
    "**Training the AI**"
   ]
  },
  {
   "cell_type": "code",
   "execution_count": null,
   "metadata": {},
   "outputs": [],
   "source": [
    "# import dependencies\n",
    "from tensorflow.keras.models import Sequential\n",
    "from tensorflow.keras.layers import LSTM,Dense\n",
    "from tensorflow.keras.callbacks import TensorBoard"
   ]
  },
  {
   "cell_type": "code",
   "execution_count": null,
   "metadata": {},
   "outputs": [],
   "source": [
    "log_dir = os.path.join('logs')\n",
    "tb_callback = TensorBoard(log_dir=log_dir)"
   ]
  },
  {
   "cell_type": "code",
   "execution_count": null,
   "metadata": {},
   "outputs": [],
   "source": [
    "actions = np.array(os.listdir(os.path.join(DATA_PATH)))\n",
    "# actions = np.array([\"about\",\"and\",\"but\"])\n",
    "actions.shape[0]"
   ]
  },
  {
   "cell_type": "code",
   "execution_count": 38,
   "metadata": {},
   "outputs": [
    {
     "name": "stdout",
     "output_type": "stream",
     "text": [
      "WARNING:tensorflow:Layer lstm_9 will not use cuDNN kernels since it doesn't meet the criteria. It will use a generic GPU kernel as fallback when running on GPU.\n",
      "WARNING:tensorflow:Layer lstm_10 will not use cuDNN kernels since it doesn't meet the criteria. It will use a generic GPU kernel as fallback when running on GPU.\n",
      "WARNING:tensorflow:Layer lstm_11 will not use cuDNN kernels since it doesn't meet the criteria. It will use a generic GPU kernel as fallback when running on GPU.\n",
      "WARNING:tensorflow:Layer lstm_12 will not use cuDNN kernels since it doesn't meet the criteria. It will use a generic GPU kernel as fallback when running on GPU.\n",
      "Epoch 1/100\n",
      "2/2 [==============================] - 16s 7s/step - loss: 1.5314 - categorical_accuracy: 0.3647\n",
      "Epoch 2/100\n",
      "2/2 [==============================] - 1s 327ms/step - loss: 10.6741 - categorical_accuracy: 0.1529\n",
      "Epoch 3/100\n",
      "2/2 [==============================] - 1s 321ms/step - loss: 1.1711 - categorical_accuracy: 0.3294\n",
      "Epoch 4/100\n",
      "2/2 [==============================] - 1s 333ms/step - loss: 1.3525 - categorical_accuracy: 0.2471\n",
      "Epoch 5/100\n",
      "2/2 [==============================] - 1s 346ms/step - loss: 1.0559 - categorical_accuracy: 0.6000\n",
      "Epoch 6/100\n",
      "2/2 [==============================] - 1s 308ms/step - loss: 5.1889 - categorical_accuracy: 0.2471\n",
      "Epoch 7/100\n",
      "2/2 [==============================] - 1s 395ms/step - loss: 7.2634 - categorical_accuracy: 0.2353\n",
      "Epoch 8/100\n",
      "2/2 [==============================] - 1s 356ms/step - loss: 8.4483 - categorical_accuracy: 0.1882\n",
      "Epoch 9/100\n",
      "2/2 [==============================] - 1s 386ms/step - loss: 11.0905 - categorical_accuracy: 0.3059\n",
      "Epoch 10/100\n",
      "2/2 [==============================] - 1s 307ms/step - loss: 9.1663 - categorical_accuracy: 0.4235\n",
      "Epoch 11/100\n",
      "2/2 [==============================] - 1s 397ms/step - loss: 15.1412 - categorical_accuracy: 0.4588\n",
      "Epoch 12/100\n",
      "2/2 [==============================] - 1s 361ms/step - loss: 42.7438 - categorical_accuracy: 0.3882\n",
      "Epoch 13/100\n",
      "2/2 [==============================] - 1s 343ms/step - loss: 16.1782 - categorical_accuracy: 0.3647\n",
      "Epoch 14/100\n",
      "2/2 [==============================] - 1s 359ms/step - loss: 7.1991 - categorical_accuracy: 0.3529\n",
      "Epoch 15/100\n",
      "2/2 [==============================] - 1s 321ms/step - loss: 5.2598 - categorical_accuracy: 0.5176\n",
      "Epoch 16/100\n",
      "2/2 [==============================] - 1s 336ms/step - loss: 5.2858 - categorical_accuracy: 0.4706\n",
      "Epoch 17/100\n",
      "2/2 [==============================] - 1s 331ms/step - loss: 5.9276 - categorical_accuracy: 0.4118\n",
      "Epoch 18/100\n",
      "2/2 [==============================] - 1s 278ms/step - loss: 7.5661 - categorical_accuracy: 0.2118\n",
      "Epoch 19/100\n",
      "2/2 [==============================] - 1s 288ms/step - loss: 3.3877 - categorical_accuracy: 0.3647\n",
      "Epoch 20/100\n",
      "2/2 [==============================] - 1s 317ms/step - loss: 3.0065 - categorical_accuracy: 0.3412\n",
      "Epoch 21/100\n",
      "2/2 [==============================] - 1s 371ms/step - loss: 10.9282 - categorical_accuracy: 0.3647\n",
      "Epoch 22/100\n",
      "2/2 [==============================] - 1s 344ms/step - loss: 25.9958 - categorical_accuracy: 0.3059\n",
      "Epoch 23/100\n",
      "2/2 [==============================] - 1s 352ms/step - loss: 33.7292 - categorical_accuracy: 0.3882\n",
      "Epoch 24/100\n",
      "2/2 [==============================] - 1s 338ms/step - loss: 18.3246 - categorical_accuracy: 0.4000\n",
      "Epoch 25/100\n",
      "2/2 [==============================] - 1s 334ms/step - loss: 20.7857 - categorical_accuracy: 0.2941\n",
      "Epoch 26/100\n",
      "2/2 [==============================] - 1s 283ms/step - loss: 11.2492 - categorical_accuracy: 0.3294\n",
      "Epoch 27/100\n",
      "2/2 [==============================] - 1s 282ms/step - loss: 15.1172 - categorical_accuracy: 0.0824\n",
      "Epoch 28/100\n",
      "2/2 [==============================] - 1s 345ms/step - loss: 14.1768 - categorical_accuracy: 0.3176\n",
      "Epoch 29/100\n",
      "2/2 [==============================] - 1s 322ms/step - loss: 26.6181 - categorical_accuracy: 0.1882\n",
      "Epoch 30/100\n",
      "2/2 [==============================] - 1s 280ms/step - loss: 8.5703 - categorical_accuracy: 0.3412\n",
      "Epoch 31/100\n",
      "2/2 [==============================] - 1s 306ms/step - loss: 7.8436 - categorical_accuracy: 0.3059\n",
      "Epoch 32/100\n",
      "2/2 [==============================] - 1s 289ms/step - loss: 5.7704 - categorical_accuracy: 0.3529\n",
      "Epoch 33/100\n",
      "2/2 [==============================] - 1s 297ms/step - loss: 5.2286 - categorical_accuracy: 0.4000\n",
      "Epoch 34/100\n",
      "2/2 [==============================] - 1s 300ms/step - loss: 4.8633 - categorical_accuracy: 0.3176\n",
      "Epoch 35/100\n",
      "2/2 [==============================] - 1s 326ms/step - loss: 7.5252 - categorical_accuracy: 0.3647\n",
      "Epoch 36/100\n",
      "2/2 [==============================] - 1s 343ms/step - loss: 7.6955 - categorical_accuracy: 0.3059\n",
      "Epoch 37/100\n",
      "2/2 [==============================] - 1s 343ms/step - loss: 10.0575 - categorical_accuracy: 0.4000\n",
      "Epoch 38/100\n",
      "2/2 [==============================] - 1s 314ms/step - loss: 15.2298 - categorical_accuracy: 0.3176\n",
      "Epoch 39/100\n",
      "2/2 [==============================] - 1s 289ms/step - loss: 5.3715 - categorical_accuracy: 0.3529\n",
      "Epoch 40/100\n",
      "2/2 [==============================] - 1s 292ms/step - loss: 3.7018 - categorical_accuracy: 0.6588\n",
      "Epoch 41/100\n",
      "2/2 [==============================] - 1s 312ms/step - loss: 6.8618 - categorical_accuracy: 0.4000\n",
      "Epoch 42/100\n",
      "2/2 [==============================] - 1s 349ms/step - loss: 2.1508 - categorical_accuracy: 0.6588\n",
      "Epoch 43/100\n",
      "2/2 [==============================] - 1s 342ms/step - loss: 1.6068 - categorical_accuracy: 0.6235\n",
      "Epoch 44/100\n",
      "2/2 [==============================] - 1s 305ms/step - loss: 1.7987 - categorical_accuracy: 0.3529\n",
      "Epoch 45/100\n",
      "2/2 [==============================] - 1s 351ms/step - loss: 0.8519 - categorical_accuracy: 0.5882\n",
      "Epoch 46/100\n",
      "2/2 [==============================] - 1s 300ms/step - loss: 1.1031 - categorical_accuracy: 0.6471\n",
      "Epoch 47/100\n",
      "2/2 [==============================] - 1s 290ms/step - loss: 1.0928 - categorical_accuracy: 0.6471\n",
      "Epoch 48/100\n",
      "2/2 [==============================] - 1s 351ms/step - loss: 0.8614 - categorical_accuracy: 0.4235\n",
      "Epoch 49/100\n",
      "2/2 [==============================] - 1s 292ms/step - loss: 0.8693 - categorical_accuracy: 0.5412\n",
      "Epoch 50/100\n",
      "2/2 [==============================] - 1s 293ms/step - loss: 0.7301 - categorical_accuracy: 0.6353\n",
      "Epoch 51/100\n",
      "2/2 [==============================] - 1s 297ms/step - loss: 0.6679 - categorical_accuracy: 0.5294\n",
      "Epoch 52/100\n",
      "2/2 [==============================] - 1s 350ms/step - loss: 0.6137 - categorical_accuracy: 0.5529\n",
      "Epoch 53/100\n",
      "2/2 [==============================] - 1s 318ms/step - loss: 0.5764 - categorical_accuracy: 0.7294\n",
      "Epoch 54/100\n",
      "2/2 [==============================] - 1s 326ms/step - loss: 0.5364 - categorical_accuracy: 0.7882\n",
      "Epoch 55/100\n",
      "2/2 [==============================] - 1s 287ms/step - loss: 0.5652 - categorical_accuracy: 0.7176\n",
      "Epoch 56/100\n",
      "2/2 [==============================] - 1s 275ms/step - loss: 0.4158 - categorical_accuracy: 0.8588\n",
      "Epoch 57/100\n",
      "2/2 [==============================] - 1s 275ms/step - loss: 1.4904 - categorical_accuracy: 0.5529\n",
      "Epoch 58/100\n",
      "2/2 [==============================] - 1s 336ms/step - loss: 0.7737 - categorical_accuracy: 0.5882\n",
      "Epoch 59/100\n",
      "2/2 [==============================] - 1s 286ms/step - loss: 0.8038 - categorical_accuracy: 0.6588\n",
      "Epoch 60/100\n",
      "2/2 [==============================] - 1s 321ms/step - loss: 0.8243 - categorical_accuracy: 0.5294\n",
      "Epoch 61/100\n",
      "2/2 [==============================] - 1s 309ms/step - loss: 0.8291 - categorical_accuracy: 0.5529\n",
      "Epoch 62/100\n",
      "2/2 [==============================] - 1s 299ms/step - loss: 0.6461 - categorical_accuracy: 0.6353\n",
      "Epoch 63/100\n",
      "2/2 [==============================] - 1s 297ms/step - loss: 0.9063 - categorical_accuracy: 0.6235\n",
      "Epoch 64/100\n",
      "2/2 [==============================] - 1s 299ms/step - loss: 1.1660 - categorical_accuracy: 0.5529\n",
      "Epoch 65/100\n",
      "2/2 [==============================] - 1s 345ms/step - loss: 1.5387 - categorical_accuracy: 0.4941\n",
      "Epoch 66/100\n",
      "2/2 [==============================] - 1s 348ms/step - loss: 1.7985 - categorical_accuracy: 0.4235\n",
      "Epoch 67/100\n",
      "2/2 [==============================] - 1s 274ms/step - loss: 1.8915 - categorical_accuracy: 0.4588\n",
      "Epoch 68/100\n",
      "2/2 [==============================] - 1s 278ms/step - loss: 1.1229 - categorical_accuracy: 0.4588\n",
      "Epoch 69/100\n",
      "2/2 [==============================] - 1s 281ms/step - loss: 0.7256 - categorical_accuracy: 0.5647\n",
      "Epoch 70/100\n",
      "2/2 [==============================] - 1s 290ms/step - loss: 1.2256 - categorical_accuracy: 0.4824\n",
      "Epoch 71/100\n",
      "2/2 [==============================] - 1s 285ms/step - loss: 0.9707 - categorical_accuracy: 0.6353\n",
      "Epoch 72/100\n",
      "2/2 [==============================] - 1s 323ms/step - loss: 0.7465 - categorical_accuracy: 0.6000\n",
      "Epoch 73/100\n",
      "2/2 [==============================] - 1s 315ms/step - loss: 0.7402 - categorical_accuracy: 0.6353\n",
      "Epoch 74/100\n",
      "2/2 [==============================] - 1s 368ms/step - loss: 0.5527 - categorical_accuracy: 0.6471\n",
      "Epoch 75/100\n",
      "2/2 [==============================] - 1s 348ms/step - loss: 0.6036 - categorical_accuracy: 0.6941\n",
      "Epoch 76/100\n",
      "2/2 [==============================] - 1s 279ms/step - loss: 0.5509 - categorical_accuracy: 0.7529\n",
      "Epoch 77/100\n",
      "2/2 [==============================] - 1s 287ms/step - loss: 0.5391 - categorical_accuracy: 0.7529\n",
      "Epoch 78/100\n",
      "2/2 [==============================] - 1s 376ms/step - loss: 0.6423 - categorical_accuracy: 0.8000\n",
      "Epoch 79/100\n",
      "2/2 [==============================] - 1s 312ms/step - loss: 0.6316 - categorical_accuracy: 0.6353\n",
      "Epoch 80/100\n",
      "2/2 [==============================] - 1s 307ms/step - loss: 0.5362 - categorical_accuracy: 0.6588\n",
      "Epoch 81/100\n",
      "2/2 [==============================] - 1s 307ms/step - loss: 0.5008 - categorical_accuracy: 0.7176\n",
      "Epoch 82/100\n",
      "2/2 [==============================] - 1s 276ms/step - loss: 0.5917 - categorical_accuracy: 0.7412\n",
      "Epoch 83/100\n",
      "2/2 [==============================] - 1s 284ms/step - loss: 0.4728 - categorical_accuracy: 0.6588\n",
      "Epoch 84/100\n",
      "2/2 [==============================] - 1s 340ms/step - loss: 0.4691 - categorical_accuracy: 0.8941\n",
      "Epoch 85/100\n",
      "2/2 [==============================] - 1s 364ms/step - loss: 0.5304 - categorical_accuracy: 0.6706\n",
      "Epoch 86/100\n",
      "2/2 [==============================] - 1s 281ms/step - loss: 0.4284 - categorical_accuracy: 0.7647\n",
      "Epoch 87/100\n",
      "2/2 [==============================] - 1s 335ms/step - loss: 0.5456 - categorical_accuracy: 0.6588\n",
      "Epoch 88/100\n",
      "2/2 [==============================] - 1s 295ms/step - loss: 0.6254 - categorical_accuracy: 0.7294\n",
      "Epoch 89/100\n",
      "2/2 [==============================] - 1s 311ms/step - loss: 0.6213 - categorical_accuracy: 0.6353\n",
      "Epoch 90/100\n",
      "2/2 [==============================] - 1s 335ms/step - loss: 0.5606 - categorical_accuracy: 0.7529\n",
      "Epoch 91/100\n",
      "2/2 [==============================] - 1s 325ms/step - loss: 0.4602 - categorical_accuracy: 0.8000\n",
      "Epoch 92/100\n",
      "2/2 [==============================] - 1s 294ms/step - loss: 0.5228 - categorical_accuracy: 0.7412\n",
      "Epoch 93/100\n",
      "2/2 [==============================] - 1s 318ms/step - loss: 0.3481 - categorical_accuracy: 0.8471\n",
      "Epoch 94/100\n",
      "2/2 [==============================] - 1s 291ms/step - loss: 0.3140 - categorical_accuracy: 0.9176\n",
      "Epoch 95/100\n",
      "2/2 [==============================] - 1s 356ms/step - loss: 0.2785 - categorical_accuracy: 0.9059\n",
      "Epoch 96/100\n",
      "2/2 [==============================] - 1s 275ms/step - loss: 0.3093 - categorical_accuracy: 0.8235\n",
      "Epoch 97/100\n",
      "2/2 [==============================] - 1s 285ms/step - loss: 0.2326 - categorical_accuracy: 0.9529\n",
      "Epoch 98/100\n",
      "2/2 [==============================] - 1s 300ms/step - loss: 0.2347 - categorical_accuracy: 0.9529\n",
      "Epoch 99/100\n",
      "2/2 [==============================] - 1s 275ms/step - loss: 0.2253 - categorical_accuracy: 0.9647\n",
      "Epoch 100/100\n",
      "2/2 [==============================] - 1s 274ms/step - loss: 0.1754 - categorical_accuracy: 0.9882\n"
     ]
    },
    {
     "data": {
      "text/plain": [
       "<keras.callbacks.History at 0x29a7247dbc8>"
      ]
     },
     "execution_count": 38,
     "metadata": {},
     "output_type": "execute_result"
    }
   ],
   "source": [
    "model = Sequential() #\n",
    "model.add(LSTM(64,return_sequences=True,activation='relu',input_shape=(30,1662))) #frame and all data shape\n",
    "model.add(LSTM(128,return_sequences=True,activation='relu')) \n",
    "model.add(LSTM(128,return_sequences=True,activation='relu')) \n",
    "model.add(LSTM(64,return_sequences=False,activation='relu')) # return false because next layer is dense\n",
    "model.add(Dense(64,activation='relu')) \n",
    "model.add(Dense(32,activation='relu')) \n",
    "model.add(Dense(actions.shape[0],activation='softmax')) # return output by how many action do we have => [0.7,0.1,0.2] / likely be 'hello'\n",
    "#loss = categorical => multiple class \n",
    "model.compile(optimizer='Adam',loss='categorical_crossentropy',metrics=['categorical_accuracy'])\n",
    "#epochs increase relatively the number of data \n",
    "model.fit(X_train,y_train,epochs=100,batch_size=64,callbacks=tb_callback)"
   ]
  },
  {
   "cell_type": "code",
   "execution_count": null,
   "metadata": {},
   "outputs": [],
   "source": [
    "#watch the log\n",
    "%cd logs/train\n",
    "%tensorboard --logdir=."
   ]
  },
  {
   "cell_type": "code",
   "execution_count": null,
   "metadata": {},
   "outputs": [],
   "source": [
    "model.summary()"
   ]
  },
  {
   "cell_type": "markdown",
   "metadata": {},
   "source": [
    "**prediction**"
   ]
  },
  {
   "cell_type": "code",
   "execution_count": 1,
   "metadata": {},
   "outputs": [
    {
     "ename": "NameError",
     "evalue": "name 'model' is not defined",
     "output_type": "error",
     "traceback": [
      "\u001b[1;31m---------------------------------------------------------------------------\u001b[0m",
      "\u001b[1;31mNameError\u001b[0m                                 Traceback (most recent call last)",
      "\u001b[1;32m~\\AppData\\Local\\Temp/ipykernel_3632/3265831797.py\u001b[0m in \u001b[0;36m<module>\u001b[1;34m\u001b[0m\n\u001b[1;32m----> 1\u001b[1;33m \u001b[0mres\u001b[0m \u001b[1;33m=\u001b[0m \u001b[0mmodel\u001b[0m\u001b[1;33m.\u001b[0m\u001b[0mpredict\u001b[0m\u001b[1;33m(\u001b[0m\u001b[0mX_test\u001b[0m\u001b[1;33m)\u001b[0m\u001b[1;33m\u001b[0m\u001b[1;33m\u001b[0m\u001b[0m\n\u001b[0m\u001b[0;32m      2\u001b[0m \u001b[0mres\u001b[0m\u001b[1;33m\u001b[0m\u001b[1;33m\u001b[0m\u001b[0m\n\u001b[0;32m      3\u001b[0m \u001b[1;31m# actions[np.argmax(res[4])]\u001b[0m\u001b[1;33m\u001b[0m\u001b[1;33m\u001b[0m\u001b[1;33m\u001b[0m\u001b[0m\n\u001b[0;32m      4\u001b[0m \u001b[1;31m# actions[np.argmax(y_test[4])]\u001b[0m\u001b[1;33m\u001b[0m\u001b[1;33m\u001b[0m\u001b[1;33m\u001b[0m\u001b[0m\n\u001b[0;32m      5\u001b[0m \u001b[1;31m# these two should be the same\u001b[0m\u001b[1;33m\u001b[0m\u001b[1;33m\u001b[0m\u001b[1;33m\u001b[0m\u001b[0m\n",
      "\u001b[1;31mNameError\u001b[0m: name 'model' is not defined"
     ]
    }
   ],
   "source": [
    "res = model.predict(X_test)\n",
    "res\n",
    "# actions[np.argmax(res[4])] \n",
    "# actions[np.argmax(y_test[4])] \n",
    "# these two should be the same"
   ]
  },
  {
   "cell_type": "markdown",
   "metadata": {},
   "source": [
    "**save weight**"
   ]
  },
  {
   "cell_type": "code",
   "execution_count": null,
   "metadata": {},
   "outputs": [],
   "source": [
    "model.save(\"action.h5\")"
   ]
  },
  {
   "cell_type": "code",
   "execution_count": null,
   "metadata": {},
   "outputs": [],
   "source": [
    "# reload model weight\n",
    "model.load_weights('action.h5')"
   ]
  },
  {
   "cell_type": "markdown",
   "metadata": {},
   "source": [
    "**Evaluatiion using Confusion Matrix and Accuracy**"
   ]
  },
  {
   "cell_type": "code",
   "execution_count": null,
   "metadata": {},
   "outputs": [],
   "source": [
    "from sklearn.metrics import multilabel_confusion_matrix,accuracy_score"
   ]
  },
  {
   "cell_type": "code",
   "execution_count": null,
   "metadata": {},
   "outputs": [],
   "source": [
    "yhat = model.predict(X_test)\n",
    "ytrue = np.argmax(y_test,axis=1).tolist()\n",
    "yhat = np.argmax(yhat,axis=1).tolist()\n",
    "multilabel_confusion_matrix(ytrue,yhat)\n",
    "#     [[True_Positive,True_Negative]\n",
    "#     [False_Positive,False_Negative]]\n",
    "#   True_Negative,False_Positive should be really low"
   ]
  },
  {
   "cell_type": "code",
   "execution_count": null,
   "metadata": {},
   "outputs": [],
   "source": [
    "accuracy_score(ytrue,yhat)"
   ]
  },
  {
   "cell_type": "markdown",
   "metadata": {},
   "source": [
    "**Covert file to tfjs**"
   ]
  },
  {
   "cell_type": "code",
   "execution_count": null,
   "metadata": {},
   "outputs": [],
   "source": [
    "%tensorflowjs_converter --input_format=keras action.h5 tfjs"
   ]
  },
  {
   "cell_type": "markdown",
   "metadata": {},
   "source": [
    "**Testing**"
   ]
  },
  {
   "cell_type": "code",
   "execution_count": null,
   "metadata": {},
   "outputs": [],
   "source": [
    "from scipy import stats"
   ]
  },
  {
   "cell_type": "code",
   "execution_count": null,
   "metadata": {},
   "outputs": [],
   "source": [
    "colors = [(245,117,16), (117,245,16), (16,117,245)]\n",
    "def prob_viz(res, actions, input_frame, colors):\n",
    "    output_frame = input_frame.copy()\n",
    "    for num, prob in enumerate(res):\n",
    "        cv2.rectangle(output_frame, (0,60+num*40), (int(prob*100), 90+num*40), colors[num], -1)\n",
    "        cv2.putText(output_frame, actions[num], (0, 85+num*40), cv2.FONT_HERSHEY_SIMPLEX, 1, (255,255,255), 2, cv2.LINE_AA)\n",
    "        \n",
    "    return output_frame"
   ]
  },
  {
   "cell_type": "code",
   "execution_count": null,
   "metadata": {},
   "outputs": [],
   "source": [
    "plt.figure(figsize=(18,18))\n",
    "plt.imshow(prob_viz(res, actions, image, colors))"
   ]
  },
  {
   "cell_type": "code",
   "execution_count": null,
   "metadata": {},
   "outputs": [],
   "source": [
    "# 1. New detection variables\n",
    "sequence = []\n",
    "sentence = []\n",
    "predictions = []\n",
    "threshold = 0.5\n",
    "\n",
    "cap = cv2.VideoCapture(0)\n",
    "# Set mediapipe model \n",
    "with mp_holistic.Holistic(min_detection_confidence=0.5, min_tracking_confidence=0.5) as holistic:\n",
    "    while cap.isOpened():\n",
    "\n",
    "        # Read feed\n",
    "        ret, frame = cap.read()\n",
    "\n",
    "        # Make detections\n",
    "        image, results = mediapipe_detection(frame, holistic)\n",
    "        print(results)\n",
    "        \n",
    "        # Draw landmarks\n",
    "        draw_landmarks(image, results)\n",
    "        \n",
    "        # 2. Prediction logic\n",
    "        keypoints = extract_keypoint(results)\n",
    "        sequence.append(keypoints)\n",
    "        sequence = sequence[-30:]\n",
    "        \n",
    "        if len(sequence) == 30:\n",
    "            res = model.predict(np.expand_dims(sequence, axis=0))[0]\n",
    "            predictions.append(np.argmax(res))\n",
    "            \n",
    "            \n",
    "        #3. Viz logic\n",
    "            if np.unique(predictions[-10:])[0]==np.argmax(res): \n",
    "                if res[np.argmax(res)] > threshold: \n",
    "                    \n",
    "                    if len(sentence) > 0: \n",
    "                        if actions[np.argmax(res)] != sentence[-1]:\n",
    "                            sentence.append(actions[np.argmax(res)])\n",
    "                    else:\n",
    "                        sentence.append(actions[np.argmax(res)])\n",
    "\n",
    "            if len(sentence) > 5: \n",
    "                sentence = sentence[-5:]\n",
    "\n",
    "            # Viz probabilities\n",
    "            image = prob_viz(res, actions, image, colors)\n",
    "            \n",
    "        cv2.rectangle(image, (0,0), (640, 40), (245, 117, 16), -1)\n",
    "        cv2.putText(image, ' '.join(sentence), (3,30), \n",
    "                       cv2.FONT_HERSHEY_SIMPLEX, 1, (255, 255, 255), 2, cv2.LINE_AA)\n",
    "        \n",
    "        # Show to screen\n",
    "        cv2.imshow('OpenCV Feed', image)\n",
    "\n",
    "        # Break gracefully\n",
    "        if cv2.waitKey(10) & 0xFF == ord('q'):\n",
    "            break\n",
    "    cap.release()\n",
    "    cv2.destroyAllWindows()"
   ]
  }
 ],
 "metadata": {
  "interpreter": {
   "hash": "e81b83f165abe1de763befe3bc2ab5626c6058366f0e29e22930108b71e454d4"
  },
  "kernelspec": {
   "display_name": "Python 3.9.6 64-bit ('tf3.8': conda)",
   "language": "python",
   "name": "python3"
  },
  "language_info": {
   "codemirror_mode": {
    "name": "ipython",
    "version": 3
   },
   "file_extension": ".py",
   "mimetype": "text/x-python",
   "name": "python",
   "nbconvert_exporter": "python",
   "pygments_lexer": "ipython3",
   "version": "3.7.11"
  },
  "orig_nbformat": 4
 },
 "nbformat": 4,
 "nbformat_minor": 2
}
