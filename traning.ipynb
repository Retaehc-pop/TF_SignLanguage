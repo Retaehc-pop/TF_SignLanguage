{
 "cells": [
  {
   "cell_type": "markdown",
   "metadata": {},
   "source": [
    "**Install and import dependency**"
   ]
  },
  {
   "cell_type": "code",
   "execution_count": null,
   "metadata": {},
   "outputs": [],
   "source": [
    "%pip install opencv-python mediapipe sklearn matplotlib"
   ]
  },
  {
   "cell_type": "code",
   "execution_count": 1,
   "metadata": {},
   "outputs": [],
   "source": [
    "import cv2\n",
    "import numpy as np\n",
    "import os\n",
    "from matplotlib import pyplot as pyplot\n",
    "import time\n",
    "import mediapipe as mp"
   ]
  },
  {
   "cell_type": "markdown",
   "metadata": {},
   "source": [
    "**check webcam and keypoint of mediapipe holistic**"
   ]
  },
  {
   "cell_type": "code",
   "execution_count": 2,
   "metadata": {},
   "outputs": [],
   "source": [
    "mp_holistic = mp.solutions.holistic # holistic module\n",
    "mp_drawing = mp.solutions.drawing_utils # drawing utilities"
   ]
  },
  {
   "cell_type": "code",
   "execution_count": 3,
   "metadata": {},
   "outputs": [],
   "source": [
    "def mediapipe_detection(image,model):\n",
    "  image = cv2.cvtColor(image,cv2.COLOR_BGR2RGB) # color conversion\n",
    "  image.flags.writeable = False\n",
    "  results = model.process(image) # process image\n",
    "  image.flags.writeable = True\n",
    "  image = cv2.cvtColor(image,cv2.COLOR_RGB2BGR) # color conversion\n",
    "  return image,results"
   ]
  },
  {
   "cell_type": "code",
   "execution_count": 4,
   "metadata": {},
   "outputs": [],
   "source": [
    "def draw_landmarks(image,result):\n",
    "  mp_drawing.draw_landmarks(image,result.face_landmarks,mp_holistic.FACEMESH_CONTOURS)\n",
    "  mp_drawing.draw_landmarks(image,result.pose_landmarks,mp_holistic.POSE_CONNECTIONS)\n",
    "  mp_drawing.draw_landmarks(image,result.left_hand_landmarks,mp_holistic.HAND_CONNECTIONS)\n",
    "  mp_drawing.draw_landmarks(image,result.right_hand_landmarks,mp_holistic.HAND_CONNECTIONS)\n"
   ]
  },
  {
   "cell_type": "code",
   "execution_count": 5,
   "metadata": {},
   "outputs": [],
   "source": [
    "def draw_styles_landmarked(image,result):\n",
    "  mp_drawing.draw_landmarks(image,result.face_landmarks,mp_holistic.FACEMESH_CONTOURS,\n",
    "                            mp_drawing.DrawingSpec(color=(80,110,10),thickness=1,circle_radius=1),\n",
    "                            mp_drawing.DrawingSpec(color=(80,256,10),thickness=1,circle_radius=1))\n",
    "  mp_drawing.draw_landmarks(image,result.pose_landmarks,mp_holistic.POSE_CONNECTIONS)\n",
    "  mp_drawing.draw_landmarks(image,result.left_hand_landmarks,mp_holistic.HAND_CONNECTIONS)\n",
    "  mp_drawing.draw_landmarks(image,result.right_hand_landmarks,mp_holistic.HAND_CONNECTIONS)\n"
   ]
  },
  {
   "cell_type": "code",
   "execution_count": null,
   "metadata": {},
   "outputs": [],
   "source": [
    "cap = cv2.VideoCapture(0) #default camera\n",
    "with mp_holistic.Holistic(min_detection_confidence=0.5, min_tracking_confidence=0.5) as holitic:\n",
    "  while cap.isOpened():\n",
    "    ret,frame = cap.read() #read frame from webcam\n",
    "    \n",
    "    #make pipe detection\n",
    "    image,result = mediapipe_detection(frame, holitic)\n",
    "    draw_styles_landmarked(image,result)\n",
    "\n",
    "    cv2.imshow(\"Camera\",image) #show on screen\n",
    "    if cv2.waitKey(10) & 0xff == ord('q'): # if q or close is pressed break\n",
    "      break\n",
    "\n",
    "  cap.release()  # disconnect webcam\n",
    "  cv2.destroyAllWindows() #close window"
   ]
  },
  {
   "cell_type": "markdown",
   "metadata": {},
   "source": [
    "**Extract Value**"
   ]
  },
  {
   "cell_type": "code",
   "execution_count": null,
   "metadata": {},
   "outputs": [],
   "source": [
    "def extract_keypoint(result):\n",
    "  pose = np.array([[res.x,res.y,res.z,res.visibility] for res in result.pose_landmarks.landmark]).flatten() if result.pose_landmarks else np.zeros(33*4)\n",
    "  face = np.array([[res.x,res.y,res.z] for res in result.face_landmarks.landmark]).flatten() if result.face_landmarks else np.zeros(468*3)\n",
    "  left_hand = np.array([[res.x,res.y,res.z] for res in result.left_hand_landmarks.landmark]).flatten() if result.left_hand_landmarks else np.zeros(21*3)\n",
    "  right_hand = np.array([[res.x,res.y,res.z] for res in result.right_hand_landmarks.landmark]).flatten() if result.right_hand_landmarks else np.zeros(21*3)\n",
    "  return np.concatenate([pose,face,left_hand,right_hand])"
   ]
  },
  {
   "cell_type": "markdown",
   "metadata": {},
   "source": [
    "**Folder and default variable Setup**"
   ]
  },
  {
   "cell_type": "code",
   "execution_count": null,
   "metadata": {},
   "outputs": [],
   "source": [
    "DATA_PATH = os.path.join(\"MP_DATA\") # paht of the exported data\n",
    "actions = np.array([\"hello\",\"thankyou\",\"iloveyou\"]) # meaning of the pose\n",
    "no_sequences = 30 # take 30 video to collect data for each action\n",
    "sequence_length = 30 # 30 frames to detect what is going on"
   ]
  },
  {
   "cell_type": "code",
   "execution_count": null,
   "metadata": {},
   "outputs": [],
   "source": [
    "for action in actions:\n",
    "  for sequence in range(no_sequences):\n",
    "    try:\n",
    "      os.makedirs(os.path.join(DATA_PATH,action,str(sequence)))\n",
    "    except:\n",
    "      pass"
   ]
  },
  {
   "cell_type": "markdown",
   "metadata": {},
   "source": [
    "**Data Collection**"
   ]
  },
  {
   "cell_type": "code",
   "execution_count": null,
   "metadata": {},
   "outputs": [],
   "source": [
    "#video feed\n",
    "cap = cv2.VideoCapture(0) #default camera\n",
    "with mp_holistic.Holistic(min_detection_confidence=0.5, min_tracking_confidence=0.5) as holitic:\n",
    "  for action in actions:\n",
    "    for sequence in range(no_sequences):\n",
    "      for frame_num in range(sequence_length):\n",
    "        ret,frame = cap.read() #read frame from webcam\n",
    "        #make pipe detection\n",
    "        \n",
    "        image,result = mediapipe_detection(frame, holitic)\n",
    "        draw_landmarks(image,result)\n",
    "\n",
    "        #show which pic is being collected\n",
    "        if frame_num == 0:\n",
    "          cv2.putText(image,\"3\",(120,200),cv2.FONT_HERSHEY_SIMPLEX,0.5,(0,0,255),4,cv2.LINE_AA)\n",
    "          cv2.waitKey(1000)\n",
    "          cv2.putText(image,\"2\",(120,200),cv2.FONT_HERSHEY_SIMPLEX,0.5,(0,0,255),4,cv2.LINE_AA)\n",
    "          cv2.waitKey(1000)\n",
    "          cv2.putText(image,\"1\",(120,200),cv2.FONT_HERSHEY_SIMPLEX,0.5,(0,0,255),4,cv2.LINE_AA)\n",
    "          cv2.waitKey(1000)\n",
    "        cv2.putText(image,f\"{action} : {sequence}\",(15,12),cv2.FONT_HERSHEY_SIMPLEX,0.5,(0,0,255),1,cv2.LINE_4)\n",
    "\n",
    "        cv2.imshow(\"Camera\",image) #show on screen\n",
    "\n",
    "        # write data to path\n",
    "        keypoint = extract_keypoint(result)\n",
    "        npy_path = os.path.join(DATA_PATH,action,str(sequence),str(frame_num))\n",
    "        np.save(npy_path,keypoint)\n",
    "\n",
    "        if cv2.waitKey(10) & 0xff == ord('q'): # if q or close is pressed break\n",
    "          break\n",
    "\n",
    "  cap.release()  # disconnect webcam\n",
    "  cv2.destroyAllWindows() #close window"
   ]
  },
  {
   "cell_type": "code",
   "execution_count": null,
   "metadata": {},
   "outputs": [],
   "source": [
    "#in case the camera cant start\n",
    "cap.release()  # disconnect webcam\n",
    "cv2.destroyAllWindows() #close window"
   ]
  },
  {
   "cell_type": "code",
   "execution_count": null,
   "metadata": {},
   "outputs": [],
   "source": [
    "#all available action\n",
    "actions"
   ]
  },
  {
   "cell_type": "code",
   "execution_count": null,
   "metadata": {},
   "outputs": [],
   "source": [
    "#video input\n",
    "file_name = \"D:/test.mp4\" #path of this file\n",
    "action = \"hello\"\n",
    "if action in actions:\n",
    "  #make new file\n",
    "  sequence = 0\n",
    "  while os.path.exists(os.path.join(DATA_PATH,action,str(sequence))):\n",
    "    sequence+=1\n",
    "\n",
    "  cap = cv2.VideoCapture(file_name)\n",
    "  if cap.isOpened():\n",
    "    with mp_holistic.Holistic(min_detection_confidence=0.5, min_tracking_confidence=0.5) as holitic:\n",
    "      for frame_num in range(sequence_length):\n",
    "        ret,frame = cap.read() #read frame from webcam\n",
    "\n",
    "        #make pipe detection\n",
    "        image,result = mediapipe_detection(frame, holitic)\n",
    "        draw_landmarks(image,result)\n",
    "        #show which pic is being collected\n",
    "      \n",
    "        cv2.putText(image,f\"{action}\",(15,12),cv2.FONT_HERSHEY_SIMPLEX,0.5,(0,0,255),1,cv2.LINE_4)\n",
    "\n",
    "        cv2.imshow(\"Camera\",image) #show on screen\n",
    "\n",
    "        # write data to path\n",
    "        keypoint = extract_keypoint(result)\n",
    "        npy_path = os.path.join(DATA_PATH,action,str(sequence),str(frame_num))\n",
    "        np.save(npy_path,keypoint)\n",
    "\n",
    "        if cv2.waitKey(10) & 0xff == ord('q'): # if q or close is pressed break\n",
    "          break\n",
    "\n",
    "      cap.release()  # disconnect webcam\n",
    "      cv2.destroyAllWindows() #close window\n",
    "  else:\n",
    "    print(\"Video Error\")\n",
    "else:\n",
    "  print(\"action invalid\")\n",
    "\n"
   ]
  },
  {
   "cell_type": "markdown",
   "metadata": {},
   "source": [
    "**Data preprocessing, Create Label and Features**"
   ]
  },
  {
   "cell_type": "code",
   "execution_count": null,
   "metadata": {},
   "outputs": [],
   "source": [
    "#import dependencies\n",
    "from sklearn.model_selection import train_test_split\n",
    "from tensorflow.keras.utils import to_categorical"
   ]
  },
  {
   "cell_type": "code",
   "execution_count": null,
   "metadata": {},
   "outputs": [],
   "source": [
    "label_map = {lable:num for num,lable in enumerate(actions)}"
   ]
  },
  {
   "cell_type": "code",
   "execution_count": null,
   "metadata": {},
   "outputs": [],
   "source": [
    "sequences,lables = [], []\n",
    "for action in actions:\n",
    "  action_file = os.listdir(os.path.join[DATA_PATH,action])\n",
    "  for sequence in range(len(action_file)):#should change to the number of file\n",
    "    window = []\n",
    "    for frame_num in range(sequence_length):\n",
    "      res = np.load(os.path.join(DATA_PATH,action,str(sequence),f\"{frame_num}.npy\"))\n",
    "      window.append(res)\n",
    "    sequences.append(window)\n",
    "    lables.append(label_map[action])\n",
    "    \n",
    "X = np.array(sequences)\n",
    "y = to_categorical(lables).astype(int)\n",
    "X_train,X_test,y_train,y_test = train_test_split(X,y,test_size=0.05)"
   ]
  },
  {
   "cell_type": "markdown",
   "metadata": {},
   "source": [
    "**Training the AI**"
   ]
  },
  {
   "cell_type": "code",
   "execution_count": null,
   "metadata": {},
   "outputs": [],
   "source": [
    "# import dependencies\n",
    "from tensorflow.keras.models import Sequential\n",
    "from tensorflow.keras.layers import LSTM,Dense\n",
    "from tensorflow.keras.callbacks import TensorBoard"
   ]
  },
  {
   "cell_type": "code",
   "execution_count": null,
   "metadata": {},
   "outputs": [],
   "source": [
    "log_dir = os.path.join('logs')\n",
    "tb_callback = TensorBoard(log_dir=log_dir)"
   ]
  },
  {
   "cell_type": "code",
   "execution_count": null,
   "metadata": {},
   "outputs": [],
   "source": [
    "model = Sequential() #\n",
    "model.add(LSTM(64,return_sequences=True,activation='relu',input_shape=(30,1662))) #frame and all data shape\n",
    "model.add(LSTM(128,return_sequences=True,activation='relu')) \n",
    "model.add(LSTM(64,return_sequences=False,activation='relu')) # return false because next layer is dense\n",
    "model.add(Dense(64,activation='relu')) \n",
    "model.add(Dense(32,activation='relu')) \n",
    "model.add(Dense(actions.shape[0],activation='softmax')) # return output by how many action do we have => [0.7,0.1,0.2] / likely be 'hello'\n",
    "#loss = categorical => multiple class \n",
    "model.compile(optimizer='Adam',loss='categorical_crosentrophy',metrics=['categorical_accuracy'])\n",
    "#epochs increase relatively the number of data \n",
    "model.fit(X_train,y_train,epochs=100,callbacks=[tb_callback])\n"
   ]
  },
  {
   "cell_type": "code",
   "execution_count": null,
   "metadata": {},
   "outputs": [],
   "source": [
    "#watch the log\n",
    "%cd logs/train\n",
    "%tensorboard --logdir=."
   ]
  },
  {
   "cell_type": "code",
   "execution_count": null,
   "metadata": {},
   "outputs": [],
   "source": [
    "model.summary()"
   ]
  },
  {
   "cell_type": "markdown",
   "metadata": {},
   "source": [
    "**prediction**"
   ]
  },
  {
   "cell_type": "code",
   "execution_count": null,
   "metadata": {},
   "outputs": [],
   "source": [
    "res = model.predict(X_test)\n",
    "# actions[np.argmax(res[4])] \n",
    "# actions[np.argmax(y_test[4])] \n",
    "# these two should be the same"
   ]
  },
  {
   "cell_type": "markdown",
   "metadata": {},
   "source": [
    "**save weight**"
   ]
  },
  {
   "cell_type": "code",
   "execution_count": null,
   "metadata": {},
   "outputs": [],
   "source": [
    "model.save(\"action.h5\")"
   ]
  },
  {
   "cell_type": "code",
   "execution_count": null,
   "metadata": {},
   "outputs": [],
   "source": [
    "# reload model weight\n",
    "model.load_weights('action.h5')"
   ]
  },
  {
   "cell_type": "markdown",
   "metadata": {},
   "source": [
    "**Evaluatiion using Confusion Matrix and Accuracy**"
   ]
  },
  {
   "cell_type": "code",
   "execution_count": null,
   "metadata": {},
   "outputs": [],
   "source": [
    "from sklearn.metrics import multilabel_confusion_matrix,accuracy_score"
   ]
  },
  {
   "cell_type": "code",
   "execution_count": null,
   "metadata": {},
   "outputs": [],
   "source": [
    "yhat = model.predict(X_test)\n",
    "ytrue = np.argmax(y_test,axis=1).tolist()\n",
    "yhat = np.argmax(yhat,axis=1).tolist()\n",
    "multilabel_confusion_matrix(ytrue,yhat)\n",
    "#     [[True_Positive,True_Negative]\n",
    "#     [False_Positive,False_Negative]]\n",
    "#   True_Negative,False_Positive should be really low"
   ]
  },
  {
   "cell_type": "code",
   "execution_count": null,
   "metadata": {},
   "outputs": [],
   "source": [
    "\n",
    "accuracy_score(ytrue,yhat)"
   ]
  },
  {
   "cell_type": "markdown",
   "metadata": {},
   "source": [
    "**Covert file to tfjs**"
   ]
  },
  {
   "cell_type": "code",
   "execution_count": 1,
   "metadata": {},
   "outputs": [
    {
     "name": "stderr",
     "output_type": "stream",
     "text": [
      "UsageError: Line magic function `%tensorflowjs_converter` not found.\n"
     ]
    }
   ],
   "source": [
    "%tensorflowjs_converter --input_format=keras action.h5 tfjs"
   ]
  },
  {
   "cell_type": "markdown",
   "metadata": {},
   "source": [
    "**Testing**"
   ]
  },
  {
   "cell_type": "code",
   "execution_count": null,
   "metadata": {},
   "outputs": [],
   "source": [
    "sequence = [] #collect the frame\n",
    "sentence = [] #history of detection\n",
    "threshold = 0.4 # if the confidence point is lower than this value it wont show the result\n"
   ]
  },
  {
   "cell_type": "code",
   "execution_count": null,
   "metadata": {},
   "outputs": [],
   "source": [
    "cap = cv2.VideoCapture(0) #default camera\n",
    "with mp_holistic.Holistic(min_detection_confidence=0.5, min_tracking_confidence=0.5) as holitic:\n",
    "  while cap.isOpened():\n",
    "    ret,frame = cap.read() #read frame from webcam\n",
    "    \n",
    "    #make pipe detection\n",
    "    image,result = mediapipe_detection(frame, holitic)\n",
    "    draw_landmarks(image,result)\n",
    "\n",
    "    #prediction logic\n",
    "    keypoint = extract_keypoint(result)\n",
    "    sequence.append(keypoint)\n",
    "    sequence = sequence[-30:]\n",
    "\n",
    "    if len(sequence) == 30:\n",
    "      res = model.predict(np.expand_dims(sequence,axis=0))[0]\n",
    "      print(actions[np.argmax(res)])\n",
    "\n",
    "    # visual logic\n",
    "    if res[np.argmax(res)]>threshold:\n",
    "      if len(sequence)>0:\n",
    "        if actions[np.argmax(res)] != sentence[-1]:\n",
    "          sentence.append(actions[np.argmax(res)])\n",
    "      else:\n",
    "        sentence.append(actions[np.argmax(res)])\n",
    "\n",
    "    if len(sentence) > 5:\n",
    "      sentence = sentence[-5:]\n",
    "\n",
    "    cv2.imshow(\"Camera\",image) #show on screen\n",
    "    if cv2.waitKey(10) & 0xff == ord('q'): # if q or close is pressed break\n",
    "      break\n",
    "\n",
    "  cap.release()  # disconnect webcam\n",
    "  cv2.destroyAllWindows() #close window"
   ]
  }
 ],
 "metadata": {
  "interpreter": {
   "hash": "e81b83f165abe1de763befe3bc2ab5626c6058366f0e29e22930108b71e454d4"
  },
  "kernelspec": {
   "display_name": "Python 3.9.6 64-bit ('tf3.8': conda)",
   "language": "python",
   "name": "python3"
  },
  "language_info": {
   "codemirror_mode": {
    "name": "ipython",
    "version": 3
   },
   "file_extension": ".py",
   "mimetype": "text/x-python",
   "name": "python",
   "nbconvert_exporter": "python",
   "pygments_lexer": "ipython3",
   "version": "3.7.11"
  },
  "orig_nbformat": 4
 },
 "nbformat": 4,
 "nbformat_minor": 2
}
