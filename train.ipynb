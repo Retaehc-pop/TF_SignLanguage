{
 "cells": [
  {
   "cell_type": "markdown",
   "metadata": {},
   "source": [
    "**Data preprocessing, Create Label and Features**"
   ]
  },
  {
   "cell_type": "code",
   "execution_count": 1,
   "metadata": {},
   "outputs": [],
   "source": [
    "#import dependencies\n",
    "import cv2\n",
    "import numpy as np\n",
    "import os\n",
    "from matplotlib import pyplot as pyplot\n",
    "import time\n",
    "import mediapipe as mp\n",
    "from sklearn.model_selection import train_test_split\n",
    "from tensorflow.keras.utils import to_categorical"
   ]
  },
  {
   "cell_type": "code",
   "execution_count": 2,
   "metadata": {},
   "outputs": [],
   "source": [
    "DATA_PATH = os.path.join(\"MP_DATA\") # paht of the exported data\n",
    "with open(\"word_list.txt\") as file:\n",
    "  action = file.readlines()\n",
    "for i,word in enumerate(action):\n",
    "  action[i] = word.replace(\"\\n\",\"\")\n",
    "actions = np.array(action)\n",
    "\n",
    "no_sequences = 30 # take 30 video to collect data for each action\n",
    "sequence_length = 30"
   ]
  },
  {
   "cell_type": "code",
   "execution_count": 10,
   "metadata": {},
   "outputs": [],
   "source": [
    "sequences,lables = [], []\n",
    "actions = np.array(os.listdir(os.path.join(DATA_PATH)))\n",
    "label_map = {lable:num for num,lable in enumerate(actions)}\n",
    "for action in actions:\n",
    "  action_file = os.listdir(os.path.join(DATA_PATH,action))\n",
    "  for sequence in range(len(action_file)):#should change to the number of file\n",
    "    window = []\n",
    "    for frame_num in range(sequence_length):\n",
    "      res = np.load(os.path.join(DATA_PATH,action,str(sequence),f\"{frame_num}.npy\"))\n",
    "      window.append(res)\n",
    "    sequences.append(window)\n",
    "    lables.append(label_map[action])\n",
    "    \n",
    "X = np.array(sequences)\n",
    "y = to_categorical(lables).astype(int)\n",
    "X_train,X_test,y_train,y_test = train_test_split(X,y,test_size=0.05)\n",
    "  "
   ]
  },
  {
   "cell_type": "markdown",
   "metadata": {},
   "source": [
    "**Train the AI**"
   ]
  },
  {
   "cell_type": "code",
   "execution_count": 7,
   "metadata": {},
   "outputs": [],
   "source": [
    "from tensorflow.keras.models import Sequential\n",
    "from tensorflow.keras.layers import LSTM,Dense\n",
    "from tensorflow.keras.callbacks import TensorBoard\n",
    "import tensorflowjs as tfjs"
   ]
  },
  {
   "cell_type": "code",
   "execution_count": 8,
   "metadata": {},
   "outputs": [],
   "source": [
    "log_dir = os.path.join('logs')\n",
    "tb_callback = TensorBoard(log_dir=log_dir)"
   ]
  },
  {
   "cell_type": "code",
   "execution_count": 14,
   "metadata": {},
   "outputs": [
    {
     "data": {
      "text/plain": [
       "21"
      ]
     },
     "execution_count": 14,
     "metadata": {},
     "output_type": "execute_result"
    }
   ],
   "source": [
    "actions.shape[0]"
   ]
  },
  {
   "cell_type": "code",
   "execution_count": 13,
   "metadata": {},
   "outputs": [
    {
     "name": "stdout",
     "output_type": "stream",
     "text": [
      "WARNING:tensorflow:Layer lstm_9 will not use cuDNN kernels since it doesn't meet the criteria. It will use a generic GPU kernel as fallback when running on GPU.\n",
      "WARNING:tensorflow:Layer lstm_10 will not use cuDNN kernels since it doesn't meet the criteria. It will use a generic GPU kernel as fallback when running on GPU.\n",
      "WARNING:tensorflow:Layer lstm_11 will not use cuDNN kernels since it doesn't meet the criteria. It will use a generic GPU kernel as fallback when running on GPU.\n",
      "Epoch 1/100\n",
      "19/19 [==============================] - 12s 357ms/step - loss: 3.2392 - categorical_accuracy: 0.0462\n",
      "Epoch 2/100\n",
      "19/19 [==============================] - 5s 278ms/step - loss: 2.9925 - categorical_accuracy: 0.0429\n",
      "Epoch 3/100\n",
      "19/19 [==============================] - 5s 250ms/step - loss: 2.7991 - categorical_accuracy: 0.1089\n",
      "Epoch 4/100\n",
      "19/19 [==============================] - 5s 241ms/step - loss: 2.6036 - categorical_accuracy: 0.1436\n",
      "Epoch 5/100\n",
      "19/19 [==============================] - 4s 237ms/step - loss: 2.5796 - categorical_accuracy: 0.1601\n",
      "Epoch 6/100\n",
      "19/19 [==============================] - 5s 241ms/step - loss: 2.5270 - categorical_accuracy: 0.1221\n",
      "Epoch 7/100\n",
      "19/19 [==============================] - 5s 263ms/step - loss: 2.4066 - categorical_accuracy: 0.1650\n",
      "Epoch 8/100\n",
      "19/19 [==============================] - 5s 269ms/step - loss: 2.2360 - categorical_accuracy: 0.2195\n",
      "Epoch 9/100\n",
      "19/19 [==============================] - 5s 254ms/step - loss: 2.1722 - categorical_accuracy: 0.2343\n",
      "Epoch 10/100\n",
      "19/19 [==============================] - 5s 237ms/step - loss: 2.4230 - categorical_accuracy: 0.1931\n",
      "Epoch 11/100\n",
      "19/19 [==============================] - 4s 236ms/step - loss: 2.0743 - categorical_accuracy: 0.2426\n",
      "Epoch 12/100\n",
      "19/19 [==============================] - 4s 229ms/step - loss: 1.8391 - categorical_accuracy: 0.3366\n",
      "Epoch 13/100\n",
      "19/19 [==============================] - 5s 243ms/step - loss: 1.8822 - categorical_accuracy: 0.2954\n",
      "Epoch 14/100\n",
      "19/19 [==============================] - 4s 232ms/step - loss: 1.7980 - categorical_accuracy: 0.3482\n",
      "Epoch 15/100\n",
      "19/19 [==============================] - 5s 250ms/step - loss: 1.8255 - categorical_accuracy: 0.3465\n",
      "Epoch 16/100\n",
      "19/19 [==============================] - 4s 224ms/step - loss: 1.4110 - categorical_accuracy: 0.4686\n",
      "Epoch 17/100\n",
      "19/19 [==============================] - 4s 227ms/step - loss: 1.3025 - categorical_accuracy: 0.4884\n",
      "Epoch 18/100\n",
      "19/19 [==============================] - 4s 219ms/step - loss: 1.2512 - categorical_accuracy: 0.5116\n",
      "Epoch 19/100\n",
      "19/19 [==============================] - 4s 230ms/step - loss: 1.3824 - categorical_accuracy: 0.4472\n",
      "Epoch 20/100\n",
      "19/19 [==============================] - 4s 219ms/step - loss: 1.4401 - categorical_accuracy: 0.4356\n",
      "Epoch 21/100\n",
      "19/19 [==============================] - 4s 213ms/step - loss: 1.2217 - categorical_accuracy: 0.5000\n",
      "Epoch 22/100\n",
      "19/19 [==============================] - 4s 219ms/step - loss: 1.1594 - categorical_accuracy: 0.5380\n",
      "Epoch 23/100\n",
      "19/19 [==============================] - 4s 220ms/step - loss: 1.4272 - categorical_accuracy: 0.4686\n",
      "Epoch 24/100\n",
      "19/19 [==============================] - 4s 211ms/step - loss: 1.2844 - categorical_accuracy: 0.4752\n",
      "Epoch 25/100\n",
      "19/19 [==============================] - 4s 218ms/step - loss: 1.1677 - categorical_accuracy: 0.5198\n",
      "Epoch 26/100\n",
      "19/19 [==============================] - 4s 213ms/step - loss: 1.0893 - categorical_accuracy: 0.5693\n",
      "Epoch 27/100\n",
      "19/19 [==============================] - 4s 215ms/step - loss: 1.5672 - categorical_accuracy: 0.4406\n",
      "Epoch 28/100\n",
      "19/19 [==============================] - 4s 210ms/step - loss: 1.4571 - categorical_accuracy: 0.4323\n",
      "Epoch 29/100\n",
      "19/19 [==============================] - 4s 210ms/step - loss: 1.2331 - categorical_accuracy: 0.5083\n",
      "Epoch 30/100\n",
      "19/19 [==============================] - 4s 217ms/step - loss: 1.2404 - categorical_accuracy: 0.4818\n",
      "Epoch 31/100\n",
      "19/19 [==============================] - 4s 214ms/step - loss: 1.1344 - categorical_accuracy: 0.5165\n",
      "Epoch 32/100\n",
      "19/19 [==============================] - 4s 218ms/step - loss: 1.0490 - categorical_accuracy: 0.5413\n",
      "Epoch 33/100\n",
      "19/19 [==============================] - 4s 211ms/step - loss: 1.1992 - categorical_accuracy: 0.5033\n",
      "Epoch 34/100\n",
      "19/19 [==============================] - 4s 215ms/step - loss: 1.1037 - categorical_accuracy: 0.5759\n",
      "Epoch 35/100\n",
      "19/19 [==============================] - 4s 212ms/step - loss: 0.9750 - categorical_accuracy: 0.6221\n",
      "Epoch 36/100\n",
      "19/19 [==============================] - 4s 211ms/step - loss: 0.9791 - categorical_accuracy: 0.5957\n",
      "Epoch 37/100\n",
      "19/19 [==============================] - 4s 213ms/step - loss: 0.9533 - categorical_accuracy: 0.6073\n",
      "Epoch 38/100\n",
      "19/19 [==============================] - 4s 231ms/step - loss: 0.9010 - categorical_accuracy: 0.6353\n",
      "Epoch 39/100\n",
      "19/19 [==============================] - 4s 222ms/step - loss: 0.8608 - categorical_accuracy: 0.6766\n",
      "Epoch 40/100\n",
      "19/19 [==============================] - 4s 216ms/step - loss: 0.8724 - categorical_accuracy: 0.6733\n",
      "Epoch 41/100\n",
      "19/19 [==============================] - 4s 235ms/step - loss: 0.8639 - categorical_accuracy: 0.6716\n",
      "Epoch 42/100\n",
      "19/19 [==============================] - 4s 218ms/step - loss: 0.9847 - categorical_accuracy: 0.6056\n",
      "Epoch 43/100\n",
      "19/19 [==============================] - 4s 212ms/step - loss: 0.8977 - categorical_accuracy: 0.6518\n",
      "Epoch 44/100\n",
      "19/19 [==============================] - 4s 216ms/step - loss: 0.7954 - categorical_accuracy: 0.6997\n",
      "Epoch 45/100\n",
      "19/19 [==============================] - 4s 218ms/step - loss: 0.8407 - categorical_accuracy: 0.6865\n",
      "Epoch 46/100\n",
      "19/19 [==============================] - 4s 218ms/step - loss: 0.9023 - categorical_accuracy: 0.6353\n",
      "Epoch 47/100\n",
      "19/19 [==============================] - 4s 210ms/step - loss: 0.9222 - categorical_accuracy: 0.6320\n",
      "Epoch 48/100\n",
      "19/19 [==============================] - 4s 217ms/step - loss: 0.8911 - categorical_accuracy: 0.6898\n",
      "Epoch 49/100\n",
      "19/19 [==============================] - 4s 219ms/step - loss: 0.8283 - categorical_accuracy: 0.7079\n",
      "Epoch 50/100\n",
      "19/19 [==============================] - 4s 217ms/step - loss: 0.8484 - categorical_accuracy: 0.6700\n",
      "Epoch 51/100\n",
      "19/19 [==============================] - 4s 213ms/step - loss: 0.7969 - categorical_accuracy: 0.6931\n",
      "Epoch 52/100\n",
      "19/19 [==============================] - 4s 212ms/step - loss: 0.8035 - categorical_accuracy: 0.6997\n",
      "Epoch 53/100\n",
      "19/19 [==============================] - 4s 220ms/step - loss: 0.8679 - categorical_accuracy: 0.6865\n",
      "Epoch 54/100\n",
      "19/19 [==============================] - 4s 218ms/step - loss: 0.6994 - categorical_accuracy: 0.7640\n",
      "Epoch 55/100\n",
      "19/19 [==============================] - 4s 216ms/step - loss: 0.5936 - categorical_accuracy: 0.7888\n",
      "Epoch 56/100\n",
      "19/19 [==============================] - 4s 220ms/step - loss: 0.6212 - categorical_accuracy: 0.7855\n",
      "Epoch 57/100\n",
      "19/19 [==============================] - 4s 215ms/step - loss: 1.0088 - categorical_accuracy: 0.6502\n",
      "Epoch 58/100\n",
      "19/19 [==============================] - 4s 215ms/step - loss: 0.9240 - categorical_accuracy: 0.6287\n",
      "Epoch 59/100\n",
      "19/19 [==============================] - 4s 220ms/step - loss: 0.8489 - categorical_accuracy: 0.6914\n",
      "Epoch 60/100\n",
      "19/19 [==============================] - 4s 215ms/step - loss: 0.6758 - categorical_accuracy: 0.7442\n",
      "Epoch 61/100\n",
      "19/19 [==============================] - 4s 220ms/step - loss: 0.6963 - categorical_accuracy: 0.7525\n",
      "Epoch 62/100\n",
      "19/19 [==============================] - 4s 218ms/step - loss: 0.6521 - categorical_accuracy: 0.7723\n",
      "Epoch 63/100\n",
      "19/19 [==============================] - 4s 221ms/step - loss: 0.5307 - categorical_accuracy: 0.8036\n",
      "Epoch 64/100\n",
      "19/19 [==============================] - 4s 218ms/step - loss: 1.2260 - categorical_accuracy: 0.7228\n",
      "Epoch 65/100\n",
      "19/19 [==============================] - 4s 217ms/step - loss: 2.3607 - categorical_accuracy: 0.3432\n",
      "Epoch 66/100\n",
      "19/19 [==============================] - 4s 214ms/step - loss: 1.3061 - categorical_accuracy: 0.5264\n",
      "Epoch 67/100\n",
      "19/19 [==============================] - 4s 219ms/step - loss: 1.1817 - categorical_accuracy: 0.5759\n",
      "Epoch 68/100\n",
      "19/19 [==============================] - 4s 226ms/step - loss: 1.2133 - categorical_accuracy: 0.5561\n",
      "Epoch 69/100\n",
      "19/19 [==============================] - 4s 214ms/step - loss: 0.8983 - categorical_accuracy: 0.6650\n",
      "Epoch 70/100\n",
      "19/19 [==============================] - 4s 212ms/step - loss: 0.9949 - categorical_accuracy: 0.6469\n",
      "Epoch 71/100\n",
      "19/19 [==============================] - 4s 219ms/step - loss: 0.8411 - categorical_accuracy: 0.7063\n",
      "Epoch 72/100\n",
      "19/19 [==============================] - 4s 218ms/step - loss: 0.6854 - categorical_accuracy: 0.7624\n",
      "Epoch 73/100\n",
      "19/19 [==============================] - 4s 215ms/step - loss: 0.5615 - categorical_accuracy: 0.7888\n",
      "Epoch 74/100\n",
      "19/19 [==============================] - 4s 217ms/step - loss: 0.6579 - categorical_accuracy: 0.7657\n",
      "Epoch 75/100\n",
      "19/19 [==============================] - 4s 217ms/step - loss: 0.7409 - categorical_accuracy: 0.7343\n",
      "Epoch 76/100\n",
      "19/19 [==============================] - 4s 217ms/step - loss: 0.6612 - categorical_accuracy: 0.7508\n",
      "Epoch 77/100\n",
      "19/19 [==============================] - 4s 216ms/step - loss: 0.5041 - categorical_accuracy: 0.8053\n",
      "Epoch 78/100\n",
      "19/19 [==============================] - 4s 220ms/step - loss: 0.4324 - categorical_accuracy: 0.8465\n",
      "Epoch 79/100\n",
      "19/19 [==============================] - 4s 213ms/step - loss: 0.5780 - categorical_accuracy: 0.7756\n",
      "Epoch 80/100\n",
      "19/19 [==============================] - 4s 216ms/step - loss: 0.4908 - categorical_accuracy: 0.8201\n",
      "Epoch 81/100\n",
      "19/19 [==============================] - 4s 217ms/step - loss: 0.4275 - categorical_accuracy: 0.8482\n",
      "Epoch 82/100\n",
      "19/19 [==============================] - 4s 219ms/step - loss: 0.4005 - categorical_accuracy: 0.8465\n",
      "Epoch 83/100\n",
      "19/19 [==============================] - 5s 241ms/step - loss: 0.4248 - categorical_accuracy: 0.8333\n",
      "Epoch 84/100\n",
      "19/19 [==============================] - 4s 218ms/step - loss: 0.3765 - categorical_accuracy: 0.8630\n",
      "Epoch 85/100\n",
      "19/19 [==============================] - 4s 213ms/step - loss: 0.3151 - categorical_accuracy: 0.8944\n",
      "Epoch 86/100\n",
      "19/19 [==============================] - 4s 220ms/step - loss: 0.3348 - categorical_accuracy: 0.8812\n",
      "Epoch 87/100\n",
      "19/19 [==============================] - 4s 221ms/step - loss: 0.4192 - categorical_accuracy: 0.8630\n",
      "Epoch 88/100\n",
      "19/19 [==============================] - 4s 211ms/step - loss: 0.4839 - categorical_accuracy: 0.8168\n",
      "Epoch 89/100\n",
      "19/19 [==============================] - 4s 214ms/step - loss: 0.4227 - categorical_accuracy: 0.8383\n",
      "Epoch 90/100\n",
      "19/19 [==============================] - 4s 218ms/step - loss: 0.3606 - categorical_accuracy: 0.8515\n",
      "Epoch 91/100\n",
      "19/19 [==============================] - 4s 218ms/step - loss: 0.3557 - categorical_accuracy: 0.8696\n",
      "Epoch 92/100\n",
      "19/19 [==============================] - 4s 213ms/step - loss: 0.3589 - categorical_accuracy: 0.8680\n",
      "Epoch 93/100\n",
      "19/19 [==============================] - 4s 217ms/step - loss: 0.5887 - categorical_accuracy: 0.7904\n",
      "Epoch 94/100\n",
      "19/19 [==============================] - 4s 220ms/step - loss: 0.7960 - categorical_accuracy: 0.7112\n",
      "Epoch 95/100\n",
      "19/19 [==============================] - 4s 221ms/step - loss: 0.4834 - categorical_accuracy: 0.8251\n",
      "Epoch 96/100\n",
      "19/19 [==============================] - 4s 213ms/step - loss: 0.3293 - categorical_accuracy: 0.8894\n",
      "Epoch 97/100\n",
      "19/19 [==============================] - 4s 216ms/step - loss: 0.3065 - categorical_accuracy: 0.8911\n",
      "Epoch 98/100\n",
      "19/19 [==============================] - 4s 210ms/step - loss: 0.2329 - categorical_accuracy: 0.9175\n",
      "Epoch 99/100\n",
      "19/19 [==============================] - 4s 219ms/step - loss: 0.2510 - categorical_accuracy: 0.9092\n",
      "Epoch 100/100\n",
      "19/19 [==============================] - 4s 215ms/step - loss: 0.2565 - categorical_accuracy: 0.9092\n"
     ]
    },
    {
     "data": {
      "text/plain": [
       "<keras.callbacks.History at 0x2c114da15c8>"
      ]
     },
     "execution_count": 13,
     "metadata": {},
     "output_type": "execute_result"
    }
   ],
   "source": [
    "model = Sequential() #\n",
    "model.add(LSTM(64,return_sequences=True,activation='relu',input_shape=(30,1662))) #frame and all data shape\n",
    "model.add(LSTM(128,return_sequences=True,activation='relu')) \n",
    "model.add(LSTM(64,return_sequences=False,activation='relu')) # return false because next layer is dense\n",
    "model.add(Dense(64,activation='relu')) \n",
    "model.add(Dense(32,activation='relu')) \n",
    "model.add(Dense(actions.shape[0],activation='softmax')) # return output by how many action do we have => [0.7,0.1,0.2] / likely be 'hello'\n",
    "#loss = categorical => multiple class \n",
    "model.compile(optimizer='Adam',loss='categorical_crossentropy',metrics=['categorical_accuracy'])\n",
    "#epochs increase relatively the number of data \n",
    "model.fit(X_train,y_train,epochs=100,callbacks=[tb_callback])"
   ]
  },
  {
   "cell_type": "code",
   "execution_count": 15,
   "metadata": {},
   "outputs": [
    {
     "name": "stdout",
     "output_type": "stream",
     "text": [
      "d:\\Code\\TF_SignLanguage\\logs\\train\n"
     ]
    },
    {
     "name": "stderr",
     "output_type": "stream",
     "text": [
      "UsageError: Line magic function `%tensorboard` not found.\n"
     ]
    }
   ],
   "source": [
    "#watch the log\n",
    "%cd logs/train\n",
    "%tensorboard --logdir=."
   ]
  },
  {
   "cell_type": "code",
   "execution_count": 16,
   "metadata": {},
   "outputs": [
    {
     "name": "stdout",
     "output_type": "stream",
     "text": [
      "Model: \"sequential_3\"\n",
      "_________________________________________________________________\n",
      "Layer (type)                 Output Shape              Param #   \n",
      "=================================================================\n",
      "lstm_9 (LSTM)                (None, 30, 64)            442112    \n",
      "_________________________________________________________________\n",
      "lstm_10 (LSTM)               (None, 30, 128)           98816     \n",
      "_________________________________________________________________\n",
      "lstm_11 (LSTM)               (None, 64)                49408     \n",
      "_________________________________________________________________\n",
      "dense_8 (Dense)              (None, 64)                4160      \n",
      "_________________________________________________________________\n",
      "dense_9 (Dense)              (None, 32)                2080      \n",
      "_________________________________________________________________\n",
      "dense_10 (Dense)             (None, 21)                693       \n",
      "=================================================================\n",
      "Total params: 597,269\n",
      "Trainable params: 597,269\n",
      "Non-trainable params: 0\n",
      "_________________________________________________________________\n"
     ]
    }
   ],
   "source": [
    "model.summary()"
   ]
  },
  {
   "cell_type": "markdown",
   "metadata": {},
   "source": [
    "**save module**"
   ]
  },
  {
   "cell_type": "code",
   "execution_count": 20,
   "metadata": {},
   "outputs": [],
   "source": [
    "model.save(\"action.h5\")\n",
    "tfjs.converters.save_keras_model(model, \"tfjs\")"
   ]
  },
  {
   "cell_type": "code",
   "execution_count": null,
   "metadata": {},
   "outputs": [],
   "source": [
    "# reload model weight\n",
    "model.load_weights('action.h5')"
   ]
  },
  {
   "cell_type": "code",
   "execution_count": null,
   "metadata": {},
   "outputs": [],
   "source": [
    "#load model\n",
    "from tensorflow import keras\n",
    "model = keras.models.load_model('path/to/location')"
   ]
  },
  {
   "cell_type": "markdown",
   "metadata": {},
   "source": [
    "**eval**"
   ]
  },
  {
   "cell_type": "code",
   "execution_count": 19,
   "metadata": {},
   "outputs": [
    {
     "data": {
      "text/plain": [
       "0.84375"
      ]
     },
     "execution_count": 19,
     "metadata": {},
     "output_type": "execute_result"
    }
   ],
   "source": [
    "from sklearn.metrics import multilabel_confusion_matrix,accuracy_score\n",
    "yhat = model.predict(X_test)\n",
    "ytrue = np.argmax(y_test,axis=1).tolist()\n",
    "yhat = np.argmax(yhat,axis=1).tolist()\n",
    "multilabel_confusion_matrix(ytrue,yhat)\n",
    "accuracy_score(ytrue,yhat)"
   ]
  },
  {
   "cell_type": "code",
   "execution_count": 21,
   "metadata": {},
   "outputs": [],
   "source": [
    "mp_holistic = mp.solutions.holistic # holistic module\n",
    "mp_drawing = mp.solutions.drawing_utils # drawing utilities\n",
    "def mediapipe_detection(image,model):\n",
    "  image = cv2.cvtColor(image,cv2.COLOR_BGR2RGB) # color conversion\n",
    "  image.flags.writeable = False\n",
    "  results = model.process(image) # process image\n",
    "  image.flags.writeable = True\n",
    "  image = cv2.cvtColor(image,cv2.COLOR_RGB2BGR) # color conversion\n",
    "  return image,results\n",
    "def draw_landmarks(image,result):\n",
    "  mp_drawing.draw_landmarks(image,result.face_landmarks,mp_holistic.FACEMESH_CONTOURS)\n",
    "  mp_drawing.draw_landmarks(image,result.pose_landmarks,mp_holistic.POSE_CONNECTIONS)\n",
    "  mp_drawing.draw_landmarks(image,result.left_hand_landmarks,mp_holistic.HAND_CONNECTIONS)\n",
    "  mp_drawing.draw_landmarks(image,result.right_hand_landmarks,mp_holistic.HAND_CONNECTIONS)\n",
    "def draw_styles_landmarked(image,result):\n",
    "  mp_drawing.draw_landmarks(image,result.face_landmarks,mp_holistic.FACEMESH_CONTOURS,\n",
    "                            mp_drawing.DrawingSpec(color=(80,110,10),thickness=1,circle_radius=1),\n",
    "                            mp_drawing.DrawingSpec(color=(80,256,10),thickness=1,circle_radius=1))\n",
    "  mp_drawing.draw_landmarks(image,result.pose_landmarks,mp_holistic.POSE_CONNECTIONS)\n",
    "  mp_drawing.draw_landmarks(image,result.left_hand_landmarks,mp_holistic.HAND_CONNECTIONS)\n",
    "  mp_drawing.draw_landmarks(image,result.right_hand_landmarks,mp_holistic.HAND_CONNECTIONS)\n",
    "def extract_keypoint(result):\n",
    "  pose = np.array([[res.x,res.y,res.z,res.visibility] for res in result.pose_landmarks.landmark]).flatten() if result.pose_landmarks else np.zeros(33*4)\n",
    "  face = np.array([[res.x,res.y,res.z] for res in result.face_landmarks.landmark]).flatten() if result.face_landmarks else np.zeros(468*3)\n",
    "  left_hand = np.array([[res.x,res.y,res.z] for res in result.left_hand_landmarks.landmark]).flatten() if result.left_hand_landmarks else np.zeros(21*3)\n",
    "  right_hand = np.array([[res.x,res.y,res.z] for res in result.right_hand_landmarks.landmark]).flatten() if result.right_hand_landmarks else np.zeros(21*3)\n",
    "  return np.concatenate([pose,face,left_hand,right_hand])"
   ]
  },
  {
   "cell_type": "code",
   "execution_count": 26,
   "metadata": {},
   "outputs": [],
   "source": [
    "# 1. New detection variables\n",
    "sequence = []\n",
    "sentence = []\n",
    "predictions = []\n",
    "threshold = 0.8\n",
    "\n",
    "cap = cv2.VideoCapture(0)\n",
    "# Set mediapipe model \n",
    "with mp_holistic.Holistic(min_detection_confidence=0.5, min_tracking_confidence=0.5) as holistic:\n",
    "    while cap.isOpened():\n",
    "\n",
    "        # Read feed\n",
    "        ret, frame = cap.read()\n",
    "\n",
    "        # Make detections\n",
    "        image, results = mediapipe_detection(frame, holistic)\n",
    "        # Draw landmarks\n",
    "        draw_landmarks(image, results)\n",
    "        # 2. Prediction logic\n",
    "        keypoints = extract_keypoint(results)\n",
    "        sequence.append(keypoints)\n",
    "        sequence = sequence[-30:]\n",
    "        if len(sequence) == 30:\n",
    "            res = model.predict(np.expand_dims(sequence, axis=0))[0]\n",
    "            predictions.append(np.argmax(res))\n",
    "            \n",
    "            \n",
    "        #3. Viz logic\n",
    "            if np.unique(predictions[-10:])[0]==np.argmax(res): \n",
    "                if res[np.argmax(res)] > threshold: \n",
    "                    if len(sentence) > 0: \n",
    "                        if actions[np.argmax(res)] != sentence[-1]:\n",
    "                            sentence.append(actions[np.argmax(res)])\n",
    "                    else:\n",
    "                        sentence.append(actions[np.argmax(res)])\n",
    "\n",
    "            if len(sentence) > 5: \n",
    "                sentence = sentence[-5:]\n",
    "            \n",
    "        cv2.rectangle(image, (0,0), (640, 40), (245, 117, 16), -1)\n",
    "        cv2.putText(image, ' '.join(sentence), (3,30), \n",
    "                       cv2.FONT_HERSHEY_SIMPLEX, 1, (255, 255, 255), 2, cv2.LINE_AA)\n",
    "        \n",
    "        # Show to screen\n",
    "        cv2.imshow('OpenCV Feed', image)\n",
    "\n",
    "        # Break gracefully\n",
    "        if cv2.waitKey(10) & 0xFF == ord('q'):\n",
    "            break\n",
    "    cap.release()\n",
    "    cv2.destroyAllWindows()"
   ]
  }
 ],
 "metadata": {
  "interpreter": {
   "hash": "9103b89518c9592aaf7b51401b88ec12ced5e1cde478347da803a0f3bed09c08"
  },
  "kernelspec": {
   "display_name": "Python 3.7.11 ('tf37')",
   "language": "python",
   "name": "python3"
  },
  "language_info": {
   "codemirror_mode": {
    "name": "ipython",
    "version": 3
   },
   "file_extension": ".py",
   "mimetype": "text/x-python",
   "name": "python",
   "nbconvert_exporter": "python",
   "pygments_lexer": "ipython3",
   "version": "3.7.11"
  },
  "orig_nbformat": 4
 },
 "nbformat": 4,
 "nbformat_minor": 2
}
