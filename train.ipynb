{
 "cells": [
  {
   "cell_type": "markdown",
   "metadata": {},
   "source": [
    "**Data preprocessing, Create Label and Features**"
   ]
  },
  {
   "cell_type": "code",
   "execution_count": 1,
   "metadata": {},
   "outputs": [],
   "source": [
    "#import dependencies\n",
    "import cv2\n",
    "import numpy as np\n",
    "import os\n",
    "from matplotlib import pyplot as pyplot\n",
    "import time\n",
    "import mediapipe as mp\n",
    "from sklearn.model_selection import train_test_split\n",
    "from tensorflow.keras.utils import to_categorical"
   ]
  },
  {
   "cell_type": "code",
   "execution_count": 2,
   "metadata": {},
   "outputs": [],
   "source": [
    "DATA_PATH = os.path.join(\"MP_DATA\") # paht of the exported data\n",
    "with open(\"word_list.txt\") as file:\n",
    "  action = file.readlines()\n",
    "for i,word in enumerate(action):\n",
    "  action[i] = word.replace(\"\\n\",\"\")\n",
    "actions = np.array(action)\n",
    "\n",
    "no_sequences = 30 # take 30 video to collect data for each action\n",
    "sequence_length = 30"
   ]
  },
  {
   "cell_type": "code",
   "execution_count": 3,
   "metadata": {},
   "outputs": [],
   "source": [
    "sequences,lables = [], []\n",
    "# actions = np.array(os.listdir(os.path.join(DATA_PATH)))\n",
    "actions = np.array([\"go\",\"she\",\"like\",\"my\"])\n",
    "label_map = {lable:num for num,lable in enumerate(actions)}\n",
    "for action in actions:\n",
    "  action_file = os.listdir(os.path.join(DATA_PATH,action))\n",
    "  for sequence in range(len(action_file)): #should change to the number of file\n",
    "    window = []\n",
    "    for frame_num in range(sequence_length):\n",
    "      res = np.load(os.path.join(DATA_PATH,action,str(sequence),f\"{frame_num}.npy\"))\n",
    "      window.append(res)\n",
    "    sequences.append(window)\n",
    "    lables.append(label_map[action])\n",
    "    \n",
    "X = np.array(sequences)\n",
    "y = to_categorical(lables).astype(int)\n",
    "X_train,X_test,y_train,y_test = train_test_split(X,y,test_size=0.05)\n",
    "  "
   ]
  },
  {
   "cell_type": "code",
   "execution_count": null,
   "metadata": {},
   "outputs": [],
   "source": [
    "print(X_train.shape)\n",
    "print(y_train.shape)"
   ]
  },
  {
   "cell_type": "markdown",
   "metadata": {},
   "source": [
    "**Train the AI**"
   ]
  },
  {
   "cell_type": "code",
   "execution_count": 4,
   "metadata": {},
   "outputs": [],
   "source": [
    "from tensorflow.keras.models import Sequential\n",
    "from tensorflow.keras.layers import LSTM,Dense,Dropout\n",
    "from tensorflow.keras.callbacks import TensorBoard\n",
    "import tensorflowjs as tfjs"
   ]
  },
  {
   "cell_type": "code",
   "execution_count": 5,
   "metadata": {},
   "outputs": [],
   "source": [
    "log_dir = os.path.join('logs')\n",
    "tb_callback = TensorBoard(log_dir=log_dir)"
   ]
  },
  {
   "cell_type": "code",
   "execution_count": 8,
   "metadata": {},
   "outputs": [
    {
     "name": "stdout",
     "output_type": "stream",
     "text": [
      "Epoch 1/50\n",
      "4/4 [==============================] - 9s 1s/step - loss: 1.3857 - categorical_accuracy: 0.3304\n",
      "Epoch 2/50\n",
      "4/4 [==============================] - 0s 17ms/step - loss: 1.3867 - categorical_accuracy: 0.3130\n",
      "Epoch 3/50\n",
      "4/4 [==============================] - 0s 19ms/step - loss: 1.3746 - categorical_accuracy: 0.3478\n",
      "Epoch 4/50\n",
      "4/4 [==============================] - 0s 18ms/step - loss: 1.2957 - categorical_accuracy: 0.5043\n",
      "Epoch 5/50\n",
      "4/4 [==============================] - 0s 20ms/step - loss: 1.1045 - categorical_accuracy: 0.6870\n",
      "Epoch 6/50\n",
      "4/4 [==============================] - 0s 18ms/step - loss: 0.9126 - categorical_accuracy: 0.8000\n",
      "Epoch 7/50\n",
      "4/4 [==============================] - 0s 18ms/step - loss: 0.7110 - categorical_accuracy: 0.9043\n",
      "Epoch 8/50\n",
      "4/4 [==============================] - 0s 19ms/step - loss: 0.5529 - categorical_accuracy: 0.9130\n",
      "Epoch 9/50\n",
      "4/4 [==============================] - 0s 20ms/step - loss: 0.3833 - categorical_accuracy: 0.9478\n",
      "Epoch 10/50\n",
      "4/4 [==============================] - 0s 18ms/step - loss: 0.8933 - categorical_accuracy: 0.7217\n",
      "Epoch 11/50\n",
      "4/4 [==============================] - 0s 20ms/step - loss: 1.0944 - categorical_accuracy: 0.6000\n",
      "Epoch 12/50\n",
      "4/4 [==============================] - 0s 18ms/step - loss: 0.7048 - categorical_accuracy: 0.6522\n",
      "Epoch 13/50\n",
      "4/4 [==============================] - 0s 19ms/step - loss: 0.9690 - categorical_accuracy: 0.6348\n",
      "Epoch 14/50\n",
      "4/4 [==============================] - 0s 18ms/step - loss: 0.9376 - categorical_accuracy: 0.6174\n",
      "Epoch 15/50\n",
      "4/4 [==============================] - 0s 19ms/step - loss: 0.7428 - categorical_accuracy: 0.6957\n",
      "Epoch 16/50\n",
      "4/4 [==============================] - 0s 18ms/step - loss: 0.5564 - categorical_accuracy: 0.7913\n",
      "Epoch 17/50\n",
      "4/4 [==============================] - 0s 17ms/step - loss: 0.4381 - categorical_accuracy: 0.7913\n",
      "Epoch 18/50\n",
      "4/4 [==============================] - 0s 18ms/step - loss: 0.4173 - categorical_accuracy: 0.8174\n",
      "Epoch 19/50\n",
      "4/4 [==============================] - 0s 20ms/step - loss: 0.3839 - categorical_accuracy: 0.8087\n",
      "Epoch 20/50\n",
      "4/4 [==============================] - 0s 17ms/step - loss: 0.3281 - categorical_accuracy: 0.9304\n",
      "Epoch 21/50\n",
      "4/4 [==============================] - 0s 18ms/step - loss: 0.3228 - categorical_accuracy: 0.8870\n",
      "Epoch 22/50\n",
      "4/4 [==============================] - 0s 18ms/step - loss: 0.2318 - categorical_accuracy: 0.9304\n",
      "Epoch 23/50\n",
      "4/4 [==============================] - 0s 19ms/step - loss: 0.2191 - categorical_accuracy: 0.9478\n",
      "Epoch 24/50\n",
      "4/4 [==============================] - 0s 20ms/step - loss: 0.1399 - categorical_accuracy: 0.9826\n",
      "Epoch 25/50\n",
      "4/4 [==============================] - 0s 19ms/step - loss: 0.0980 - categorical_accuracy: 1.0000\n",
      "Epoch 26/50\n",
      "4/4 [==============================] - 0s 18ms/step - loss: 0.0650 - categorical_accuracy: 1.0000\n",
      "Epoch 27/50\n",
      "4/4 [==============================] - 0s 18ms/step - loss: 0.3227 - categorical_accuracy: 0.8870\n",
      "Epoch 28/50\n",
      "4/4 [==============================] - 0s 18ms/step - loss: 1.5622 - categorical_accuracy: 0.6174\n",
      "Epoch 29/50\n",
      "4/4 [==============================] - 0s 19ms/step - loss: 0.3748 - categorical_accuracy: 0.8609\n",
      "Epoch 30/50\n",
      "4/4 [==============================] - 0s 20ms/step - loss: 0.6274 - categorical_accuracy: 0.7565\n",
      "Epoch 31/50\n",
      "4/4 [==============================] - 0s 18ms/step - loss: 0.3244 - categorical_accuracy: 0.9478\n",
      "Epoch 32/50\n",
      "4/4 [==============================] - 0s 17ms/step - loss: 0.2768 - categorical_accuracy: 0.9130\n",
      "Epoch 33/50\n",
      "4/4 [==============================] - 0s 20ms/step - loss: 0.2244 - categorical_accuracy: 0.9652\n",
      "Epoch 34/50\n",
      "4/4 [==============================] - 0s 18ms/step - loss: 0.1706 - categorical_accuracy: 0.9826\n",
      "Epoch 35/50\n",
      "4/4 [==============================] - 0s 19ms/step - loss: 0.1141 - categorical_accuracy: 1.0000\n",
      "Epoch 36/50\n",
      "4/4 [==============================] - 0s 16ms/step - loss: 0.0852 - categorical_accuracy: 0.9913\n",
      "Epoch 37/50\n",
      "4/4 [==============================] - 0s 18ms/step - loss: 0.0745 - categorical_accuracy: 0.9913\n",
      "Epoch 38/50\n",
      "4/4 [==============================] - 0s 18ms/step - loss: 0.0829 - categorical_accuracy: 0.9913\n",
      "Epoch 39/50\n",
      "4/4 [==============================] - 0s 18ms/step - loss: 0.0536 - categorical_accuracy: 0.9913\n",
      "Epoch 40/50\n",
      "4/4 [==============================] - 0s 17ms/step - loss: 0.0505 - categorical_accuracy: 0.9913\n",
      "Epoch 41/50\n",
      "4/4 [==============================] - 0s 19ms/step - loss: 0.0361 - categorical_accuracy: 1.0000\n",
      "Epoch 42/50\n",
      "4/4 [==============================] - 0s 18ms/step - loss: 0.0225 - categorical_accuracy: 1.0000\n",
      "Epoch 43/50\n",
      "4/4 [==============================] - 0s 19ms/step - loss: 0.0509 - categorical_accuracy: 0.9913\n",
      "Epoch 44/50\n",
      "4/4 [==============================] - 0s 18ms/step - loss: 0.0197 - categorical_accuracy: 1.0000\n",
      "Epoch 45/50\n",
      "4/4 [==============================] - 0s 16ms/step - loss: 0.0180 - categorical_accuracy: 1.0000\n",
      "Epoch 46/50\n",
      "4/4 [==============================] - 0s 18ms/step - loss: 0.0158 - categorical_accuracy: 1.0000\n",
      "Epoch 47/50\n",
      "4/4 [==============================] - 0s 18ms/step - loss: 0.0158 - categorical_accuracy: 1.0000\n",
      "Epoch 48/50\n",
      "4/4 [==============================] - 0s 16ms/step - loss: 0.0124 - categorical_accuracy: 1.0000\n",
      "Epoch 49/50\n",
      "4/4 [==============================] - 0s 16ms/step - loss: 0.0125 - categorical_accuracy: 1.0000\n",
      "Epoch 50/50\n",
      "4/4 [==============================] - 0s 19ms/step - loss: 0.0117 - categorical_accuracy: 1.0000\n"
     ]
    },
    {
     "data": {
      "text/plain": [
       "<keras.callbacks.History at 0x165ac36fb08>"
      ]
     },
     "execution_count": 8,
     "metadata": {},
     "output_type": "execute_result"
    }
   ],
   "source": [
    "model = Sequential() #\n",
    "model.add(LSTM(64,return_sequences=True,activation='tanh',input_shape=(30,1662))) #frame and all data shape\n",
    "# model.add(LSTM(128,return_sequences=True,activation='relu')) \n",
    "model.add(LSTM(128,return_sequences=True,activation='tanh')) # return false because next layer is dense\n",
    "model.add(LSTM(64,return_sequences=False,activation='tanh')) # return false because next layer is dense\n",
    "model.add(Dropout(0.3)) \n",
    "# model.add(Dense(64,activation='relu')) \n",
    "model.add(Dense(64,activation='relu')) \n",
    "model.add(Dense(32,activation='relu')) \n",
    "model.add(Dense(actions.shape[0],activation='softmax')) # return output by how many action do we have => [0.7,0.1,0.2] / likely be 'hello'\n",
    "\n",
    "#loss = categorical => multiple class \n",
    "model.compile(optimizer='Adam',loss='categorical_crossentropy',metrics=['categorical_accuracy'])\n",
    "#epochs increase relatively the number of data \n",
    "model.fit(X_train,y_train,epochs=50,callbacks=[tb_callback])"
   ]
  },
  {
   "cell_type": "code",
   "execution_count": null,
   "metadata": {},
   "outputs": [],
   "source": [
    "#watch the log\n",
    "%cd logs/train\n",
    "%tensorboard --logdir=."
   ]
  },
  {
   "cell_type": "code",
   "execution_count": 9,
   "metadata": {},
   "outputs": [
    {
     "name": "stdout",
     "output_type": "stream",
     "text": [
      "Model: \"sequential_2\"\n",
      "_________________________________________________________________\n",
      "Layer (type)                 Output Shape              Param #   \n",
      "=================================================================\n",
      "lstm_6 (LSTM)                (None, 30, 64)            442112    \n",
      "_________________________________________________________________\n",
      "lstm_7 (LSTM)                (None, 30, 128)           98816     \n",
      "_________________________________________________________________\n",
      "lstm_8 (LSTM)                (None, 64)                49408     \n",
      "_________________________________________________________________\n",
      "dropout_2 (Dropout)          (None, 64)                0         \n",
      "_________________________________________________________________\n",
      "dense_5 (Dense)              (None, 64)                4160      \n",
      "_________________________________________________________________\n",
      "dense_6 (Dense)              (None, 32)                2080      \n",
      "_________________________________________________________________\n",
      "dense_7 (Dense)              (None, 4)                 132       \n",
      "=================================================================\n",
      "Total params: 596,708\n",
      "Trainable params: 596,708\n",
      "Non-trainable params: 0\n",
      "_________________________________________________________________\n"
     ]
    }
   ],
   "source": [
    "model.summary()"
   ]
  },
  {
   "cell_type": "markdown",
   "metadata": {},
   "source": [
    "**save module**"
   ]
  },
  {
   "cell_type": "code",
   "execution_count": null,
   "metadata": {},
   "outputs": [],
   "source": [
    "model.save(\"../../action.h5\")\n",
    "tfjs.converters.save_keras_model(model, \"../../tfjs\")"
   ]
  },
  {
   "cell_type": "code",
   "execution_count": null,
   "metadata": {},
   "outputs": [],
   "source": [
    "# reload model weight\n",
    "model.load_weights('action.h5')"
   ]
  },
  {
   "cell_type": "code",
   "execution_count": null,
   "metadata": {},
   "outputs": [],
   "source": [
    "#load model\n",
    "from tensorflow import keras\n",
    "model = keras.models.load_model('action.h5')"
   ]
  },
  {
   "cell_type": "markdown",
   "metadata": {},
   "source": [
    "**eval**"
   ]
  },
  {
   "cell_type": "code",
   "execution_count": 10,
   "metadata": {},
   "outputs": [
    {
     "data": {
      "text/plain": [
       "1.0"
      ]
     },
     "execution_count": 10,
     "metadata": {},
     "output_type": "execute_result"
    }
   ],
   "source": [
    "from sklearn.metrics import multilabel_confusion_matrix,accuracy_score\n",
    "yhat = model.predict(X_test)\n",
    "ytrue = np.argmax(y_test,axis=1).tolist()\n",
    "yhat = np.argmax(yhat,axis=1).tolist()\n",
    "multilabel_confusion_matrix(ytrue,yhat)\n",
    "accuracy_score(ytrue,yhat)"
   ]
  },
  {
   "cell_type": "code",
   "execution_count": 11,
   "metadata": {},
   "outputs": [],
   "source": [
    "mp_holistic = mp.solutions.holistic # holistic module\n",
    "mp_drawing = mp.solutions.drawing_utils # drawing utilities\n",
    "def mediapipe_detection(image,model):\n",
    "  image = cv2.cvtColor(image,cv2.COLOR_BGR2RGB) # color conversion\n",
    "  image.flags.writeable = False\n",
    "  results = model.process(image) # process image\n",
    "  image.flags.writeable = True\n",
    "  image = cv2.cvtColor(image,cv2.COLOR_RGB2BGR) # color conversion\n",
    "  return image,results\n",
    "def draw_landmarks(image,result):\n",
    "  mp_drawing.draw_landmarks(image,result.face_landmarks,mp_holistic.FACEMESH_CONTOURS)\n",
    "  mp_drawing.draw_landmarks(image,result.pose_landmarks,mp_holistic.POSE_CONNECTIONS)\n",
    "  mp_drawing.draw_landmarks(image,result.left_hand_landmarks,mp_holistic.HAND_CONNECTIONS)\n",
    "  mp_drawing.draw_landmarks(image,result.right_hand_landmarks,mp_holistic.HAND_CONNECTIONS)\n",
    "def draw_styles_landmarked(image,result):\n",
    "  mp_drawing.draw_landmarks(image,result.face_landmarks,mp_holistic.FACEMESH_CONTOURS,\n",
    "                            mp_drawing.DrawingSpec(color=(80,110,10),thickness=1,circle_radius=1),\n",
    "                            mp_drawing.DrawingSpec(color=(80,256,10),thickness=1,circle_radius=1))\n",
    "  mp_drawing.draw_landmarks(image,result.pose_landmarks,mp_holistic.POSE_CONNECTIONS)\n",
    "  mp_drawing.draw_landmarks(image,result.left_hand_landmarks,mp_holistic.HAND_CONNECTIONS)\n",
    "  mp_drawing.draw_landmarks(image,result.right_hand_landmarks,mp_holistic.HAND_CONNECTIONS)\n",
    "def extract_keypoint(result):\n",
    "  pose = np.array([[res.x,res.y,res.z,res.visibility] for res in result.pose_landmarks.landmark]).flatten() if result.pose_landmarks else np.zeros(33*4)\n",
    "  face = np.array([[res.x,res.y,res.z] for res in result.face_landmarks.landmark]).flatten() if result.face_landmarks else np.zeros(468*3)\n",
    "  left_hand = np.array([[res.x,res.y,res.z] for res in result.left_hand_landmarks.landmark]).flatten() if result.left_hand_landmarks else np.zeros(21*3)\n",
    "  right_hand = np.array([[res.x,res.y,res.z] for res in result.right_hand_landmarks.landmark]).flatten() if result.right_hand_landmarks else np.zeros(21*3)\n",
    "  return np.concatenate([pose,face,left_hand,right_hand])\n",
    "colors = [(245,117,16), (117,245,16), (16,117,245),(44,217,235)]\n",
    "def prob_viz(res, actions, input_frame, colors):\n",
    "    output_frame = input_frame.copy()\n",
    "    for num, prob in enumerate(res):\n",
    "        cv2.rectangle(output_frame, (0,60+num*40), (int(prob*100), 90+num*40), colors[num], -1)\n",
    "        cv2.putText(output_frame, actions[num], (0, 85+num*40), cv2.FONT_HERSHEY_SIMPLEX, 1, (255,255,255), 2, cv2.LINE_AA)\n",
    "        \n",
    "    return output_frame"
   ]
  },
  {
   "cell_type": "code",
   "execution_count": 13,
   "metadata": {},
   "outputs": [],
   "source": [
    "# 1. New detection variables\n",
    "sequence = []\n",
    "sentence = []\n",
    "predictions = []\n",
    "threshold = 0.8\n",
    "\n",
    "cap = cv2.VideoCapture(0)\n",
    "# Set mediapipe model \n",
    "with mp_holistic.Holistic(min_detection_confidence=0.5, min_tracking_confidence=0.5) as holistic:\n",
    "    while cap.isOpened():\n",
    "\n",
    "        # Read feed\n",
    "        ret, frame = cap.read()\n",
    "\n",
    "        # Make detections\n",
    "        image, results = mediapipe_detection(frame, holistic)\n",
    "        # Draw landmarks\n",
    "        draw_landmarks(image, results)\n",
    "        # 2. Prediction logic\n",
    "        keypoints = extract_keypoint(results)\n",
    "        sequence.append(keypoints)\n",
    "        sequence = sequence[-30:]\n",
    "        if len(sequence) == 30:\n",
    "            res = model.predict(np.expand_dims(sequence, axis=0))[0]\n",
    "            predictions.append(np.argmax(res))\n",
    "            \n",
    "            \n",
    "        #3. Viz logic\n",
    "            if np.unique(predictions[-10:])[0]==np.argmax(res): \n",
    "                if res[np.argmax(res)] > threshold: \n",
    "                    if len(sentence) > 0: \n",
    "                        if actions[np.argmax(res)] != sentence[-1]:\n",
    "                            sentence.append(actions[np.argmax(res)])\n",
    "                            sequence = []\n",
    "                    else:\n",
    "                        sentence.append(actions[np.argmax(res)])\n",
    "\n",
    "            if len(sentence) > 5: \n",
    "                sentence = sentence[-5:]\n",
    "            \n",
    "            # Viz probabilities\n",
    "            image = prob_viz(res, actions, image, colors)\n",
    "            \n",
    "        cv2.rectangle(image, (0,0), (640, 40), (245, 117, 16), -1)\n",
    "        cv2.putText(image, ' '.join(sentence), (3,30), \n",
    "                       cv2.FONT_HERSHEY_SIMPLEX, 1, (255, 255, 255), 2, cv2.LINE_AA)\n",
    "        \n",
    "        # Show to screen\n",
    "        cv2.imshow('OpenCV Feed', image)\n",
    "\n",
    "        # Break gracefully\n",
    "        if cv2.waitKey(10) & 0xFF == ord('q'):\n",
    "            break\n",
    "    cap.release()\n",
    "    cv2.destroyAllWindows()"
   ]
  },
  {
   "cell_type": "code",
   "execution_count": null,
   "metadata": {},
   "outputs": [],
   "source": [
    "cap.release()\n",
    "cv2.destroyAllWindows()"
   ]
  }
 ],
 "metadata": {
  "interpreter": {
   "hash": "9103b89518c9592aaf7b51401b88ec12ced5e1cde478347da803a0f3bed09c08"
  },
  "kernelspec": {
   "display_name": "Python 3.7.11 ('tf37')",
   "language": "python",
   "name": "python3"
  },
  "language_info": {
   "codemirror_mode": {
    "name": "ipython",
    "version": 3
   },
   "file_extension": ".py",
   "mimetype": "text/x-python",
   "name": "python",
   "nbconvert_exporter": "python",
   "pygments_lexer": "ipython3",
   "version": "3.7.11"
  },
  "orig_nbformat": 4
 },
 "nbformat": 4,
 "nbformat_minor": 2
}
