{
 "cells": [
  {
   "cell_type": "markdown",
   "metadata": {},
   "source": [
    "**Data preprocessing, Create Label and Features**"
   ]
  },
  {
   "cell_type": "code",
   "execution_count": 2,
   "metadata": {},
   "outputs": [],
   "source": [
    "#import dependencies\n",
    "import cv2\n",
    "import numpy as np\n",
    "import os\n",
    "from matplotlib import pyplot as pyplot\n",
    "import time\n",
    "import mediapipe as mp\n",
    "from sklearn.model_selection import train_test_split\n",
    "from tensorflow.keras.utils import to_categorical"
   ]
  },
  {
   "cell_type": "code",
   "execution_count": 3,
   "metadata": {},
   "outputs": [],
   "source": [
    "DATA_PATH = os.path.join(\"MP_DATA\") # paht of the exported data\n",
    "with open(\"word_list.txt\") as file:\n",
    "  action = file.readlines()\n",
    "for i,word in enumerate(action):\n",
    "  action[i] = word.replace(\"\\n\",\"\")\n",
    "actions = np.array(action)\n",
    "\n",
    "no_sequences = 30 # take 30 video to collect data for each action\n",
    "sequence_length = 30"
   ]
  },
  {
   "cell_type": "code",
   "execution_count": 4,
   "metadata": {},
   "outputs": [],
   "source": [
    "sequences,lables = [], []\n",
    "# actions = np.array(os.listdir(os.path.join(DATA_PATH)))\n",
    "actions = np.array([\"about\",\"after\",\"agree\"])\n",
    "label_map = {lable:num for num,lable in enumerate(actions)}\n",
    "for action in actions:\n",
    "  action_file = os.listdir(os.path.join(DATA_PATH,action))\n",
    "  for sequence in range(len(action_file)):#should change to the number of file\n",
    "    window = []\n",
    "    for frame_num in range(sequence_length):\n",
    "      res = np.load(os.path.join(DATA_PATH,action,str(sequence),f\"{frame_num}.npy\"))\n",
    "      window.append(res)\n",
    "    sequences.append(window)\n",
    "    lables.append(label_map[action])\n",
    "    \n",
    "X = np.array(sequences)\n",
    "y = to_categorical(lables).astype(int)\n",
    "X_train,X_test,y_train,y_test = train_test_split(X,y,test_size=0.05)\n",
    "  "
   ]
  },
  {
   "cell_type": "markdown",
   "metadata": {},
   "source": [
    "**Train the AI**"
   ]
  },
  {
   "cell_type": "code",
   "execution_count": 5,
   "metadata": {},
   "outputs": [],
   "source": [
    "from tensorflow.keras.models import Sequential\n",
    "from tensorflow.keras.layers import LSTM,Dense\n",
    "from tensorflow.keras.callbacks import TensorBoard\n",
    "import tensorflowjs as tfjs"
   ]
  },
  {
   "cell_type": "code",
   "execution_count": 6,
   "metadata": {},
   "outputs": [],
   "source": [
    "log_dir = os.path.join('logs')\n",
    "tb_callback = TensorBoard(log_dir=log_dir)"
   ]
  },
  {
   "cell_type": "code",
   "execution_count": 7,
   "metadata": {},
   "outputs": [
    {
     "data": {
      "text/plain": [
       "3"
      ]
     },
     "execution_count": 7,
     "metadata": {},
     "output_type": "execute_result"
    }
   ],
   "source": [
    "actions.shape[0]"
   ]
  },
  {
   "cell_type": "code",
   "execution_count": 9,
   "metadata": {},
   "outputs": [
    {
     "name": "stdout",
     "output_type": "stream",
     "text": [
      "WARNING:tensorflow:Layer lstm_3 will not use cuDNN kernels since it doesn't meet the criteria. It will use a generic GPU kernel as fallback when running on GPU.\n",
      "WARNING:tensorflow:Layer lstm_4 will not use cuDNN kernels since it doesn't meet the criteria. It will use a generic GPU kernel as fallback when running on GPU.\n",
      "WARNING:tensorflow:Layer lstm_5 will not use cuDNN kernels since it doesn't meet the criteria. It will use a generic GPU kernel as fallback when running on GPU.\n",
      "Epoch 1/100\n",
      "3/3 [==============================] - 9s 2s/step - loss: 1.1170 - categorical_accuracy: 0.3488\n",
      "Epoch 2/100\n",
      "3/3 [==============================] - 1s 260ms/step - loss: 1.0959 - categorical_accuracy: 0.3953\n",
      "Epoch 3/100\n",
      "3/3 [==============================] - 1s 230ms/step - loss: 1.1220 - categorical_accuracy: 0.4186\n",
      "Epoch 4/100\n",
      "3/3 [==============================] - 1s 253ms/step - loss: 1.1128 - categorical_accuracy: 0.3372\n",
      "Epoch 5/100\n",
      "3/3 [==============================] - 1s 231ms/step - loss: 1.1764 - categorical_accuracy: 0.3837\n",
      "Epoch 6/100\n",
      "3/3 [==============================] - 1s 234ms/step - loss: 1.1943 - categorical_accuracy: 0.2791\n",
      "Epoch 7/100\n",
      "3/3 [==============================] - 1s 254ms/step - loss: 1.1909 - categorical_accuracy: 0.2791\n",
      "Epoch 8/100\n",
      "3/3 [==============================] - 1s 250ms/step - loss: 1.0786 - categorical_accuracy: 0.4419\n",
      "Epoch 9/100\n",
      "3/3 [==============================] - 1s 274ms/step - loss: 1.1212 - categorical_accuracy: 0.3837\n",
      "Epoch 10/100\n",
      "3/3 [==============================] - 1s 237ms/step - loss: 1.0833 - categorical_accuracy: 0.3605\n",
      "Epoch 11/100\n",
      "3/3 [==============================] - 1s 250ms/step - loss: 1.1391 - categorical_accuracy: 0.3721\n",
      "Epoch 12/100\n",
      "3/3 [==============================] - 1s 202ms/step - loss: 1.0998 - categorical_accuracy: 0.3953\n",
      "Epoch 13/100\n",
      "3/3 [==============================] - 1s 206ms/step - loss: 1.1194 - categorical_accuracy: 0.2791\n",
      "Epoch 14/100\n",
      "3/3 [==============================] - 1s 201ms/step - loss: 1.1494 - categorical_accuracy: 0.3023\n",
      "Epoch 15/100\n",
      "3/3 [==============================] - 1s 211ms/step - loss: 1.0723 - categorical_accuracy: 0.4535\n",
      "Epoch 16/100\n",
      "3/3 [==============================] - 1s 270ms/step - loss: 1.0891 - categorical_accuracy: 0.4186\n",
      "Epoch 17/100\n",
      "3/3 [==============================] - 1s 229ms/step - loss: 1.1019 - categorical_accuracy: 0.4302\n",
      "Epoch 18/100\n",
      "3/3 [==============================] - 1s 243ms/step - loss: 1.1169 - categorical_accuracy: 0.3953\n",
      "Epoch 19/100\n",
      "3/3 [==============================] - 1s 197ms/step - loss: 1.1426 - categorical_accuracy: 0.3605\n",
      "Epoch 20/100\n",
      "3/3 [==============================] - 1s 205ms/step - loss: 1.0799 - categorical_accuracy: 0.4070\n",
      "Epoch 21/100\n",
      "3/3 [==============================] - 1s 201ms/step - loss: 1.1620 - categorical_accuracy: 0.3023\n",
      "Epoch 22/100\n",
      "3/3 [==============================] - 1s 201ms/step - loss: 1.1524 - categorical_accuracy: 0.2209\n",
      "Epoch 23/100\n",
      "3/3 [==============================] - 1s 195ms/step - loss: 1.1259 - categorical_accuracy: 0.3256\n",
      "Epoch 24/100\n",
      "3/3 [==============================] - 1s 235ms/step - loss: 1.1662 - categorical_accuracy: 0.2326\n",
      "Epoch 25/100\n",
      "3/3 [==============================] - 1s 220ms/step - loss: 1.1502 - categorical_accuracy: 0.2907\n",
      "Epoch 26/100\n",
      "3/3 [==============================] - 1s 227ms/step - loss: 1.1424 - categorical_accuracy: 0.3023\n",
      "Epoch 27/100\n",
      "3/3 [==============================] - 1s 222ms/step - loss: 1.1056 - categorical_accuracy: 0.3023\n",
      "Epoch 28/100\n",
      "3/3 [==============================] - 1s 275ms/step - loss: 1.1180 - categorical_accuracy: 0.3605\n",
      "Epoch 29/100\n",
      "3/3 [==============================] - 1s 246ms/step - loss: 1.1273 - categorical_accuracy: 0.3488\n",
      "Epoch 30/100\n",
      "3/3 [==============================] - 1s 230ms/step - loss: 1.1000 - categorical_accuracy: 0.3605\n",
      "Epoch 31/100\n",
      "3/3 [==============================] - 1s 222ms/step - loss: 1.1181 - categorical_accuracy: 0.3605\n",
      "Epoch 32/100\n",
      "3/3 [==============================] - 1s 210ms/step - loss: 1.1451 - categorical_accuracy: 0.2907\n",
      "Epoch 33/100\n",
      "3/3 [==============================] - 1s 202ms/step - loss: 1.0871 - categorical_accuracy: 0.3721\n",
      "Epoch 34/100\n",
      "3/3 [==============================] - 1s 239ms/step - loss: 1.0871 - categorical_accuracy: 0.4186\n",
      "Epoch 35/100\n",
      "3/3 [==============================] - 1s 229ms/step - loss: 1.1131 - categorical_accuracy: 0.2674\n",
      "Epoch 36/100\n",
      "3/3 [==============================] - 1s 224ms/step - loss: 1.1178 - categorical_accuracy: 0.3721\n",
      "Epoch 37/100\n",
      "3/3 [==============================] - 1s 249ms/step - loss: 1.0947 - categorical_accuracy: 0.4186\n",
      "Epoch 38/100\n",
      "3/3 [==============================] - 1s 244ms/step - loss: 1.0928 - categorical_accuracy: 0.4070\n",
      "Epoch 39/100\n",
      "3/3 [==============================] - 1s 256ms/step - loss: 1.1201 - categorical_accuracy: 0.2209\n",
      "Epoch 40/100\n",
      "3/3 [==============================] - 1s 206ms/step - loss: 1.0941 - categorical_accuracy: 0.4070\n",
      "Epoch 41/100\n",
      "3/3 [==============================] - 1s 196ms/step - loss: 1.1001 - categorical_accuracy: 0.3721\n",
      "Epoch 42/100\n",
      "3/3 [==============================] - 1s 196ms/step - loss: 1.0959 - categorical_accuracy: 0.3721\n",
      "Epoch 43/100\n",
      "3/3 [==============================] - 1s 222ms/step - loss: 1.0915 - categorical_accuracy: 0.3488\n",
      "Epoch 44/100\n",
      "3/3 [==============================] - 1s 281ms/step - loss: 1.0753 - categorical_accuracy: 0.4767\n",
      "Epoch 45/100\n",
      "3/3 [==============================] - 1s 272ms/step - loss: 1.0897 - categorical_accuracy: 0.4767\n",
      "Epoch 46/100\n",
      "3/3 [==============================] - 1s 193ms/step - loss: 1.1077 - categorical_accuracy: 0.3953\n",
      "Epoch 47/100\n",
      "3/3 [==============================] - 1s 192ms/step - loss: 1.0865 - categorical_accuracy: 0.3721\n",
      "Epoch 48/100\n",
      "3/3 [==============================] - 1s 201ms/step - loss: 1.1340 - categorical_accuracy: 0.3023\n",
      "Epoch 49/100\n",
      "3/3 [==============================] - 1s 207ms/step - loss: 1.1195 - categorical_accuracy: 0.3837\n",
      "Epoch 50/100\n",
      "3/3 [==============================] - 1s 251ms/step - loss: 1.0772 - categorical_accuracy: 0.4186\n",
      "Epoch 51/100\n",
      "3/3 [==============================] - 1s 281ms/step - loss: 1.1361 - categorical_accuracy: 0.2907\n",
      "Epoch 52/100\n",
      "3/3 [==============================] - 1s 207ms/step - loss: 1.1436 - categorical_accuracy: 0.2907\n",
      "Epoch 53/100\n",
      "3/3 [==============================] - 1s 198ms/step - loss: 1.1285 - categorical_accuracy: 0.3140\n",
      "Epoch 54/100\n",
      "3/3 [==============================] - 1s 207ms/step - loss: 1.1137 - categorical_accuracy: 0.3721\n",
      "Epoch 55/100\n",
      "3/3 [==============================] - 1s 233ms/step - loss: 1.1075 - categorical_accuracy: 0.3953\n",
      "Epoch 56/100\n",
      "3/3 [==============================] - 1s 235ms/step - loss: 1.1435 - categorical_accuracy: 0.3256\n",
      "Epoch 57/100\n",
      "3/3 [==============================] - 1s 209ms/step - loss: 1.1284 - categorical_accuracy: 0.3372\n",
      "Epoch 58/100\n",
      "3/3 [==============================] - 1s 212ms/step - loss: 1.1433 - categorical_accuracy: 0.3605\n",
      "Epoch 59/100\n",
      "3/3 [==============================] - 1s 198ms/step - loss: 1.1299 - categorical_accuracy: 0.3140\n",
      "Epoch 60/100\n",
      "3/3 [==============================] - 1s 197ms/step - loss: 1.1662 - categorical_accuracy: 0.2442\n",
      "Epoch 61/100\n",
      "3/3 [==============================] - 1s 215ms/step - loss: 1.1243 - categorical_accuracy: 0.3372\n",
      "Epoch 62/100\n",
      "3/3 [==============================] - 1s 196ms/step - loss: 1.1169 - categorical_accuracy: 0.1977\n",
      "Epoch 63/100\n",
      "3/3 [==============================] - 1s 206ms/step - loss: 1.1295 - categorical_accuracy: 0.2326\n",
      "Epoch 64/100\n",
      "3/3 [==============================] - 1s 239ms/step - loss: 1.0989 - categorical_accuracy: 0.3605\n",
      "Epoch 65/100\n",
      "3/3 [==============================] - 1s 232ms/step - loss: 1.1166 - categorical_accuracy: 0.2674\n",
      "Epoch 66/100\n",
      "3/3 [==============================] - 1s 268ms/step - loss: 1.0936 - categorical_accuracy: 0.3721\n",
      "Epoch 67/100\n",
      "3/3 [==============================] - 1s 203ms/step - loss: 1.1042 - categorical_accuracy: 0.2674\n",
      "Epoch 68/100\n",
      "3/3 [==============================] - 1s 225ms/step - loss: 1.0970 - categorical_accuracy: 0.3488\n",
      "Epoch 69/100\n",
      "3/3 [==============================] - 1s 231ms/step - loss: 1.0804 - categorical_accuracy: 0.4535\n",
      "Epoch 70/100\n",
      "3/3 [==============================] - 1s 196ms/step - loss: 1.0943 - categorical_accuracy: 0.3605\n",
      "Epoch 71/100\n",
      "3/3 [==============================] - 1s 281ms/step - loss: 1.1020 - categorical_accuracy: 0.3372\n",
      "Epoch 72/100\n",
      "3/3 [==============================] - 1s 207ms/step - loss: 1.1057 - categorical_accuracy: 0.3372\n",
      "Epoch 73/100\n",
      "3/3 [==============================] - 1s 248ms/step - loss: 1.0808 - categorical_accuracy: 0.3721\n",
      "Epoch 74/100\n",
      "3/3 [==============================] - 1s 202ms/step - loss: 1.0989 - categorical_accuracy: 0.3488\n",
      "Epoch 75/100\n",
      "3/3 [==============================] - 1s 205ms/step - loss: 1.1031 - categorical_accuracy: 0.3023\n",
      "Epoch 76/100\n",
      "3/3 [==============================] - 1s 229ms/step - loss: 1.1047 - categorical_accuracy: 0.3488\n",
      "Epoch 77/100\n",
      "3/3 [==============================] - 1s 243ms/step - loss: 1.0998 - categorical_accuracy: 0.3488\n",
      "Epoch 78/100\n",
      "3/3 [==============================] - 1s 208ms/step - loss: 1.0962 - categorical_accuracy: 0.3488\n",
      "Epoch 79/100\n",
      "3/3 [==============================] - 1s 216ms/step - loss: 1.0954 - categorical_accuracy: 0.3488\n",
      "Epoch 80/100\n",
      "3/3 [==============================] - 1s 276ms/step - loss: 1.0945 - categorical_accuracy: 0.2674\n",
      "Epoch 81/100\n",
      "3/3 [==============================] - 1s 215ms/step - loss: 1.0968 - categorical_accuracy: 0.3372\n",
      "Epoch 82/100\n",
      "3/3 [==============================] - 1s 211ms/step - loss: 1.0980 - categorical_accuracy: 0.3372\n",
      "Epoch 83/100\n",
      "3/3 [==============================] - 1s 257ms/step - loss: 1.1006 - categorical_accuracy: 0.2674\n",
      "Epoch 84/100\n",
      "3/3 [==============================] - 1s 232ms/step - loss: 1.0981 - categorical_accuracy: 0.3488\n",
      "Epoch 85/100\n",
      "3/3 [==============================] - 1s 231ms/step - loss: 1.0978 - categorical_accuracy: 0.3488\n",
      "Epoch 86/100\n",
      "3/3 [==============================] - 1s 212ms/step - loss: 1.0991 - categorical_accuracy: 0.3488\n",
      "Epoch 87/100\n",
      "3/3 [==============================] - 1s 213ms/step - loss: 1.0984 - categorical_accuracy: 0.3372\n",
      "Epoch 88/100\n",
      "1/3 [=========>....................] - ETA: 0s - loss: 1.1047 - categorical_accuracy: 0.2812"
     ]
    }
   ],
   "source": [
    "model = Sequential() #\n",
    "model.add(LSTM(64,return_sequences=True,activation='relu',input_shape=(30,1662))) #frame and all data shape\n",
    "model.add(LSTM(128,return_sequences=True,activation='relu')) \n",
    "model.add(LSTM(64,return_sequences=False,activation='relu')) # return false because next layer is dense\n",
    "model.add(Dense(64,activation='sigmoid')) \n",
    "model.add(Dense(32,activation='relu')) \n",
    "model.add(Dense(actions.shape[0],activation='softmax')) # return output by how many action do we have => [0.7,0.1,0.2] / likely be 'hello'\n",
    "\n",
    "#loss = categorical => multiple class \n",
    "model.compile(optimizer='Adam',loss='categorical_crossentropy',metrics=['categorical_accuracy'])\n",
    "#epochs increase relatively the number of data \n",
    "model.fit(X_train,y_train,epochs=100,callbacks=[tb_callback])"
   ]
  },
  {
   "cell_type": "code",
   "execution_count": null,
   "metadata": {},
   "outputs": [],
   "source": [
    "#watch the log\n",
    "%cd logs/train\n",
    "%tensorboard --logdir=."
   ]
  },
  {
   "cell_type": "code",
   "execution_count": null,
   "metadata": {},
   "outputs": [],
   "source": [
    "model.summary()"
   ]
  },
  {
   "cell_type": "markdown",
   "metadata": {},
   "source": [
    "**save module**"
   ]
  },
  {
   "cell_type": "code",
   "execution_count": null,
   "metadata": {},
   "outputs": [],
   "source": [
    "model.save(\"action.h5\")\n",
    "tfjs.converters.save_keras_model(model, \"tfjs\")"
   ]
  },
  {
   "cell_type": "code",
   "execution_count": null,
   "metadata": {},
   "outputs": [],
   "source": [
    "# reload model weight\n",
    "model.load_weights('action.h5')"
   ]
  },
  {
   "cell_type": "code",
   "execution_count": null,
   "metadata": {},
   "outputs": [],
   "source": [
    "#load model\n",
    "from tensorflow import keras\n",
    "model = keras.models.load_model('path/to/location')"
   ]
  },
  {
   "cell_type": "markdown",
   "metadata": {},
   "source": [
    "**eval**"
   ]
  },
  {
   "cell_type": "code",
   "execution_count": null,
   "metadata": {},
   "outputs": [],
   "source": [
    "from sklearn.metrics import multilabel_confusion_matrix,accuracy_score\n",
    "yhat = model.predict(X_test)\n",
    "ytrue = np.argmax(y_test,axis=1).tolist()\n",
    "yhat = np.argmax(yhat,axis=1).tolist()\n",
    "multilabel_confusion_matrix(ytrue,yhat)\n",
    "accuracy_score(ytrue,yhat)"
   ]
  },
  {
   "cell_type": "code",
   "execution_count": null,
   "metadata": {},
   "outputs": [],
   "source": [
    "mp_holistic = mp.solutions.holistic # holistic module\n",
    "mp_drawing = mp.solutions.drawing_utils # drawing utilities\n",
    "def mediapipe_detection(image,model):\n",
    "  image = cv2.cvtColor(image,cv2.COLOR_BGR2RGB) # color conversion\n",
    "  image.flags.writeable = False\n",
    "  results = model.process(image) # process image\n",
    "  image.flags.writeable = True\n",
    "  image = cv2.cvtColor(image,cv2.COLOR_RGB2BGR) # color conversion\n",
    "  return image,results\n",
    "def draw_landmarks(image,result):\n",
    "  mp_drawing.draw_landmarks(image,result.face_landmarks,mp_holistic.FACEMESH_CONTOURS)\n",
    "  mp_drawing.draw_landmarks(image,result.pose_landmarks,mp_holistic.POSE_CONNECTIONS)\n",
    "  mp_drawing.draw_landmarks(image,result.left_hand_landmarks,mp_holistic.HAND_CONNECTIONS)\n",
    "  mp_drawing.draw_landmarks(image,result.right_hand_landmarks,mp_holistic.HAND_CONNECTIONS)\n",
    "def draw_styles_landmarked(image,result):\n",
    "  mp_drawing.draw_landmarks(image,result.face_landmarks,mp_holistic.FACEMESH_CONTOURS,\n",
    "                            mp_drawing.DrawingSpec(color=(80,110,10),thickness=1,circle_radius=1),\n",
    "                            mp_drawing.DrawingSpec(color=(80,256,10),thickness=1,circle_radius=1))\n",
    "  mp_drawing.draw_landmarks(image,result.pose_landmarks,mp_holistic.POSE_CONNECTIONS)\n",
    "  mp_drawing.draw_landmarks(image,result.left_hand_landmarks,mp_holistic.HAND_CONNECTIONS)\n",
    "  mp_drawing.draw_landmarks(image,result.right_hand_landmarks,mp_holistic.HAND_CONNECTIONS)\n",
    "def extract_keypoint(result):\n",
    "  pose = np.array([[res.x,res.y,res.z,res.visibility] for res in result.pose_landmarks.landmark]).flatten() if result.pose_landmarks else np.zeros(33*4)\n",
    "  face = np.array([[res.x,res.y,res.z] for res in result.face_landmarks.landmark]).flatten() if result.face_landmarks else np.zeros(468*3)\n",
    "  left_hand = np.array([[res.x,res.y,res.z] for res in result.left_hand_landmarks.landmark]).flatten() if result.left_hand_landmarks else np.zeros(21*3)\n",
    "  right_hand = np.array([[res.x,res.y,res.z] for res in result.right_hand_landmarks.landmark]).flatten() if result.right_hand_landmarks else np.zeros(21*3)\n",
    "  return np.concatenate([pose,face,left_hand,right_hand])"
   ]
  },
  {
   "cell_type": "code",
   "execution_count": null,
   "metadata": {},
   "outputs": [],
   "source": [
    "# 1. New detection variables\n",
    "sequence = []\n",
    "sentence = []\n",
    "predictions = []\n",
    "threshold = 0.8\n",
    "\n",
    "cap = cv2.VideoCapture(0)\n",
    "# Set mediapipe model \n",
    "with mp_holistic.Holistic(min_detection_confidence=0.5, min_tracking_confidence=0.5) as holistic:\n",
    "    while cap.isOpened():\n",
    "\n",
    "        # Read feed\n",
    "        ret, frame = cap.read()\n",
    "\n",
    "        # Make detections\n",
    "        image, results = mediapipe_detection(frame, holistic)\n",
    "        # Draw landmarks\n",
    "        draw_landmarks(image, results)\n",
    "        # 2. Prediction logic\n",
    "        keypoints = extract_keypoint(results)\n",
    "        sequence.append(keypoints)\n",
    "        sequence = sequence[-30:]\n",
    "        if len(sequence) == 30:\n",
    "            res = model.predict(np.expand_dims(sequence, axis=0))[0]\n",
    "            predictions.append(np.argmax(res))\n",
    "            \n",
    "            \n",
    "        #3. Viz logic\n",
    "            if np.unique(predictions[-10:])[0]==np.argmax(res): \n",
    "                if res[np.argmax(res)] > threshold: \n",
    "                    if len(sentence) > 0: \n",
    "                        if actions[np.argmax(res)] != sentence[-1]:\n",
    "                            sentence.append(actions[np.argmax(res)])\n",
    "                    else:\n",
    "                        sentence.append(actions[np.argmax(res)])\n",
    "\n",
    "            if len(sentence) > 5: \n",
    "                sentence = sentence[-5:]\n",
    "            \n",
    "        cv2.rectangle(image, (0,0), (640, 40), (245, 117, 16), -1)\n",
    "        cv2.putText(image, ' '.join(sentence), (3,30), \n",
    "                       cv2.FONT_HERSHEY_SIMPLEX, 1, (255, 255, 255), 2, cv2.LINE_AA)\n",
    "        \n",
    "        # Show to screen\n",
    "        cv2.imshow('OpenCV Feed', image)\n",
    "\n",
    "        # Break gracefully\n",
    "        if cv2.waitKey(10) & 0xFF == ord('q'):\n",
    "            break\n",
    "    cap.release()\n",
    "    cv2.destroyAllWindows()"
   ]
  }
 ],
 "metadata": {
  "interpreter": {
   "hash": "9103b89518c9592aaf7b51401b88ec12ced5e1cde478347da803a0f3bed09c08"
  },
  "kernelspec": {
   "display_name": "Python 3.7.11 ('tf37')",
   "language": "python",
   "name": "python3"
  },
  "language_info": {
   "codemirror_mode": {
    "name": "ipython",
    "version": 3
   },
   "file_extension": ".py",
   "mimetype": "text/x-python",
   "name": "python",
   "nbconvert_exporter": "python",
   "pygments_lexer": "ipython3",
   "version": "3.7.11"
  },
  "orig_nbformat": 4
 },
 "nbformat": 4,
 "nbformat_minor": 2
}
