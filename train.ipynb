{
 "cells": [
  {
   "cell_type": "markdown",
   "metadata": {},
   "source": [
    "**Data preprocessing, Create Label and Features**"
   ]
  },
  {
   "cell_type": "code",
   "execution_count": null,
   "metadata": {},
   "outputs": [],
   "source": [
    "#import dependencies\n",
    "import cv2\n",
    "import numpy as np\n",
    "import os\n",
    "from matplotlib import pyplot as pyplot\n",
    "import time\n",
    "import mediapipe as mp\n",
    "from sklearn.model_selection import train_test_split\n",
    "from tensorflow.keras.utils import to_categorical"
   ]
  },
  {
   "cell_type": "code",
   "execution_count": null,
   "metadata": {},
   "outputs": [],
   "source": [
    "DATA_PATH = os.path.join(\"MP_DATA\") # paht of the exported data\n",
    "with open(\"word_list.txt\") as file:\n",
    "  action = file.readlines()\n",
    "for i,word in enumerate(action):\n",
    "  action[i] = word.replace(\"\\n\",\"\")\n",
    "actions = np.array(action)\n",
    "label_map = {lable:num for num,lable in enumerate(actions)}\n",
    "no_sequences = 30 # take 30 video to collect data for each action\n",
    "sequence_length = 30"
   ]
  },
  {
   "cell_type": "code",
   "execution_count": null,
   "metadata": {},
   "outputs": [],
   "source": [
    "sequences,lables = [], []\n",
    "for action in actions:\n",
    "  action_file = os.listdir(os.path.join[DATA_PATH,action])\n",
    "  for sequence in range(len(action_file)):#should change to the number of file\n",
    "    window = []\n",
    "    for frame_num in range(sequence_length):\n",
    "      res = np.load(os.path.join(DATA_PATH,action,str(sequence),f\"{frame_num}.npy\"))\n",
    "      window.append(res)\n",
    "    sequences.append(window)\n",
    "    lables.append(label_map[action])\n",
    "    \n",
    "X = np.array(sequences)\n",
    "y = to_categorical(lables).astype(int)\n",
    "X_train,X_test,y_train,y_test = train_test_split(X,y,test_size=0.05)\n",
    "  "
   ]
  },
  {
   "cell_type": "markdown",
   "metadata": {},
   "source": [
    "**Train the AI**"
   ]
  },
  {
   "cell_type": "code",
   "execution_count": null,
   "metadata": {},
   "outputs": [],
   "source": [
    "from tensorflow.keras.models import Sequential\n",
    "from tensorflow.keras.layers import LSTM,Dense\n",
    "from tensorflow.keras.callbacks import TensorBoard\n",
    "import tensorflowjs as tfjs"
   ]
  },
  {
   "cell_type": "code",
   "execution_count": null,
   "metadata": {},
   "outputs": [],
   "source": [
    "log_dir = os.path.join('logs')\n",
    "tb_callback = TensorBoard(log_dir=log_dir)"
   ]
  },
  {
   "cell_type": "code",
   "execution_count": null,
   "metadata": {},
   "outputs": [],
   "source": [
    "model = Sequential() #\n",
    "model.add(LSTM(64,return_sequences=True,activation='relu',input_shape=(30,1662))) #frame and all data shape\n",
    "model.add(LSTM(128,return_sequences=True,activation='relu')) \n",
    "model.add(LSTM(64,return_sequences=False,activation='relu')) # return false because next layer is dense\n",
    "model.add(Dense(64,activation='relu')) \n",
    "model.add(Dense(32,activation='relu')) \n",
    "model.add(Dense(actions.shape[0],activation='softmax')) # return output by how many action do we have => [0.7,0.1,0.2] / likely be 'hello'\n",
    "#loss = categorical => multiple class \n",
    "model.compile(optimizer='Adam',loss='categorical_crosentrophy',metrics=['categorical_accuracy'])\n",
    "#epochs increase relatively the number of data \n",
    "model.fit(X_train,y_train,epochs=2000,callbacks=[tb_callback])"
   ]
  },
  {
   "cell_type": "code",
   "execution_count": null,
   "metadata": {},
   "outputs": [],
   "source": [
    "#watch the log\n",
    "%cd logs/train\n",
    "%tensorboard --logdir=."
   ]
  },
  {
   "cell_type": "code",
   "execution_count": null,
   "metadata": {},
   "outputs": [],
   "source": [
    "model.summary()"
   ]
  },
  {
   "cell_type": "markdown",
   "metadata": {},
   "source": [
    "**save module**"
   ]
  },
  {
   "cell_type": "code",
   "execution_count": null,
   "metadata": {},
   "outputs": [],
   "source": [
    "model.save(\"action.h5\")\n",
    "tfjs.converters.save_keras_model(model, tfjs)"
   ]
  },
  {
   "cell_type": "code",
   "execution_count": null,
   "metadata": {},
   "outputs": [],
   "source": [
    "# reload model weight\n",
    "model.load_weights('action.h5')"
   ]
  }
 ],
 "metadata": {
  "interpreter": {
   "hash": "9103b89518c9592aaf7b51401b88ec12ced5e1cde478347da803a0f3bed09c08"
  },
  "kernelspec": {
   "display_name": "Python 3.7.11 ('tf37')",
   "language": "python",
   "name": "python3"
  },
  "language_info": {
   "name": "python",
   "version": "3.7.11"
  },
  "orig_nbformat": 4
 },
 "nbformat": 4,
 "nbformat_minor": 2
}
